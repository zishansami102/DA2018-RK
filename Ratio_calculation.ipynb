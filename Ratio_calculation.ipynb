{
 "cells": [
  {
   "cell_type": "code",
   "execution_count": 1,
   "metadata": {
    "collapsed": true
   },
   "outputs": [],
   "source": [
    "import numpy as np\n",
    "import pandas as pd \n",
    "import matplotlib.pyplot as plt\n",
    "%matplotlib inline"
   ]
  },
  {
   "cell_type": "code",
   "execution_count": 2,
   "metadata": {
    "collapsed": true
   },
   "outputs": [],
   "source": [
    "import os "
   ]
  },
  {
   "cell_type": "code",
   "execution_count": 3,
   "metadata": {},
   "outputs": [
    {
     "name": "stdout",
     "output_type": "stream",
     "text": [
      "/Users/jarvis/DA2018-RK/MF_IIT_DATA_V3_EDITED.csv\n"
     ]
    }
   ],
   "source": [
    "PATH=\"/Users/jarvis/DA2018-RK/\"\n",
    "DATA=\"MF_IIT_DATA_V3_EDITED.csv\"\n",
    "PATH_TO_DATA=os.path.join(PATH,DATA)\n",
    "EPHISLON=1e-14"
   ]
  },
  {
   "cell_type": "code",
   "execution_count": 19,
   "metadata": {
    "collapsed": true
   },
   "outputs": [],
   "source": [
    "PATH2=\"/Users/jarvis/DA2018-RK/NAV_data/Mix/\"\n"
   ]
  },
  {
   "cell_type": "code",
   "execution_count": 21,
   "metadata": {},
   "outputs": [],
   "source": [
    "nav_data=pd.read_csv(PATH2+\"100033.csv\")"
   ]
  },
  {
   "cell_type": "code",
   "execution_count": 22,
   "metadata": {
    "collapsed": true
   },
   "outputs": [],
   "source": [
    "nav_values=nav_data['Net Asset Value']\n",
    "time_stamp=nav_data['Date']"
   ]
  },
  {
   "cell_type": "code",
   "execution_count": 35,
   "metadata": {},
   "outputs": [],
   "source": [
    "Months={'Jan':'1','Feb':'2','Mar':'3','Apr':'4','May':'5','Jun':'6','Jul':'7','Aug':'8','Sep':'9','Oct':'10','Nov':'11','Dec':'12'}\n",
    "from datetime import datetime"
   ]
  },
  {
   "cell_type": "code",
   "execution_count": 50,
   "metadata": {},
   "outputs": [],
   "source": [
    "time_stamp_2=[]\n",
    "for i in time_stamp:\n",
    "    i=i.replace(i.split('-')[1],Months[i.split('-')[1]])\n",
    "    time_stamp_2.append(i)\n",
    "    "
   ]
  },
  {
   "cell_type": "code",
   "execution_count": 56,
   "metadata": {},
   "outputs": [],
   "source": [
    "time_stamp_datetime=[]\n",
    "for i in time_stamp_2:\n",
    "    i=datetime.strptime(i, '%d-%m-%Y')\n",
    "    time_stamp_datetime.append(i)"
   ]
  },
  {
   "cell_type": "code",
   "execution_count": 70,
   "metadata": {
    "collapsed": true
   },
   "outputs": [],
   "source": [
    "names=['Jan','Feb','Mar','Apr','May','Jun','Jul','Aug','Sep','Oct','Nov','Dec']\n",
    "years=['2013','2014','2015','2016','2017']"
   ]
  },
  {
   "cell_type": "code",
   "execution_count": 77,
   "metadata": {},
   "outputs": [
    {
     "name": "stdout",
     "output_type": "stream",
     "text": [
      "Jan-2013\n",
      "Feb-2013\n",
      "Mar-2013\n",
      "Apr-2013\n",
      "May-2013\n",
      "Jun-2013\n",
      "Jul-2013\n",
      "Aug-2013\n",
      "Sep-2013\n",
      "Oct-2013\n",
      "Nov-2013\n",
      "Dec-2013\n",
      "Jan-2014\n",
      "Feb-2014\n",
      "Mar-2014\n",
      "Apr-2014\n",
      "May-2014\n",
      "Jun-2014\n",
      "Jul-2014\n",
      "Aug-2014\n",
      "Sep-2014\n",
      "Oct-2014\n",
      "Nov-2014\n",
      "Dec-2014\n",
      "Jan-2015\n",
      "Feb-2015\n",
      "Mar-2015\n",
      "Apr-2015\n",
      "May-2015\n",
      "Jun-2015\n",
      "Jul-2015\n",
      "Aug-2015\n",
      "Sep-2015\n",
      "Oct-2015\n",
      "Nov-2015\n",
      "Dec-2015\n",
      "Jan-2016\n",
      "Feb-2016\n",
      "Mar-2016\n",
      "Apr-2016\n",
      "May-2016\n",
      "Jun-2016\n",
      "Jul-2016\n",
      "Aug-2016\n",
      "Sep-2016\n",
      "Oct-2016\n",
      "Nov-2016\n",
      "Dec-2016\n",
      "Jan-2017\n",
      "Feb-2017\n",
      "Mar-2017\n",
      "Apr-2017\n",
      "May-2017\n",
      "Jun-2017\n",
      "Jul-2017\n",
      "Aug-2017\n",
      "Sep-2017\n",
      "Oct-2017\n",
      "Nov-2017\n",
      "Dec-2017\n"
     ]
    }
   ],
   "source": [
    "nav_montly=[]\n",
    "value=[]\n",
    "for year in years:\n",
    "    for name in names:\n",
    "        name_year=name+\"-\"+year\n",
    "        print(name_year)\n",
    "        for i in range(len(time_stamp)):\n",
    "            if name_year in time_stamp[i]:\n",
    "                value.append(nav_values[i])\n",
    "        nav_montly.append(np.log(value[-1]/value[0]))\n",
    "        value[:]=[]\n",
    "      "
   ]
  },
  {
   "cell_type": "code",
   "execution_count": 79,
   "metadata": {},
   "outputs": [
    {
     "name": "stdout",
     "output_type": "stream",
     "text": [
      "[-0.020228873569161834, -0.070799088223220549, -0.018959512692889861, 0.034438895374312224, -0.0048302965978564106, -0.027453749799834587, -0.035824726518144868, -0.018921377390938306, 0.031324311519915486, 0.099173126222836916, -0.0031534289321500679, 0.040483746999011305, -0.044028946137333658, 0.047799178579321887, 0.096600789214498953, 0.0052476863687762922, 0.13495465529855719, 0.058585032995083892, -0.042942322575697425, 0.049586967746958095, 0.013751546816912045, 0.04448351862786315, 0.066707690404735634, 0.0072898193629458265, 0.061911344559466334, -0.00158695355169634, -0.033145205368700463, -0.057536778075907728, 0.046556542501598575, -0.012273402430807207, 0.025592174826151417, -0.050251829708316285, 0.01568700179524091, -0.0027773509598080373, -0.0060733821385796768, 0.01320741468373042, -0.053678149277606294, -0.098650874359171553, 0.076041923424365207, 0.036404389195254169, 0.028590755208176725, 0.042520750683375332, 0.071174104273624181, 0.031574424919541252, 0.0049943350123756447, -0.016373196928237424, -0.087473260212446766, -0.024179293169939803, 0.074043150809147945, 0.019689390374016853, 0.028081169922003855, 0.038999352700137026, 0.011421623912898545, -0.00028149911257761677, 0.059168161861452746, 0.0093684148642834437, -0.015787752257879865, 0.032800480046342666, -0.011428435117973408, 0.044058189314202648]\n"
     ]
    },
    {
     "ename": "NameError",
     "evalue": "name 'nav_mostly' is not defined",
     "output_type": "error",
     "traceback": [
      "\u001b[0;31m---------------------------------------------------------------------------\u001b[0m",
      "\u001b[0;31mNameError\u001b[0m                                 Traceback (most recent call last)",
      "\u001b[0;32m<ipython-input-79-bf567ea0c2bf>\u001b[0m in \u001b[0;36m<module>\u001b[0;34m()\u001b[0m\n\u001b[1;32m      1\u001b[0m \u001b[0;32mprint\u001b[0m\u001b[0;34m(\u001b[0m\u001b[0mnav_montly\u001b[0m\u001b[0;34m)\u001b[0m\u001b[0;34m\u001b[0m\u001b[0m\n\u001b[1;32m      2\u001b[0m \u001b[0mreturn_t\u001b[0m\u001b[0;34m=\u001b[0m\u001b[0;34m[\u001b[0m\u001b[0;34m]\u001b[0m\u001b[0;34m\u001b[0m\u001b[0m\n\u001b[0;32m----> 3\u001b[0;31m \u001b[0;32mfor\u001b[0m \u001b[0mi\u001b[0m \u001b[0;32min\u001b[0m \u001b[0mrange\u001b[0m\u001b[0;34m(\u001b[0m\u001b[0mlen\u001b[0m\u001b[0;34m(\u001b[0m\u001b[0mnav_mostly\u001b[0m\u001b[0;34m)\u001b[0m\u001b[0;34m-\u001b[0m\u001b[0;36m1\u001b[0m\u001b[0;34m)\u001b[0m\u001b[0;34m:\u001b[0m\u001b[0;34m\u001b[0m\u001b[0m\n\u001b[0m\u001b[1;32m      4\u001b[0m     \u001b[0mreturn_t\u001b[0m\u001b[0;34m.\u001b[0m\u001b[0mappend\u001b[0m\u001b[0;34m(\u001b[0m\u001b[0mnav_montly\u001b[0m\u001b[0;34m[\u001b[0m\u001b[0mi\u001b[0m\u001b[0;34m+\u001b[0m\u001b[0;36m1\u001b[0m\u001b[0;34m]\u001b[0m\u001b[0;34m-\u001b[0m\u001b[0mnav_montly\u001b[0m\u001b[0;34m[\u001b[0m\u001b[0mi\u001b[0m\u001b[0;34m]\u001b[0m\u001b[0;34m/\u001b[0m\u001b[0mnav_montly\u001b[0m\u001b[0;34m[\u001b[0m\u001b[0mi\u001b[0m\u001b[0;34m]\u001b[0m\u001b[0;34m)\u001b[0m\u001b[0;34m\u001b[0m\u001b[0m\n\u001b[1;32m      5\u001b[0m \u001b[0;32mprint\u001b[0m\u001b[0;34m(\u001b[0m\u001b[0mreturn_t\u001b[0m\u001b[0;34m)\u001b[0m\u001b[0;34m\u001b[0m\u001b[0m\n",
      "\u001b[0;31mNameError\u001b[0m: name 'nav_mostly' is not defined"
     ]
    }
   ],
   "source": [
    "print(nav_montly)\n",
    "return_t=[]\n",
    "for i in range(len(nav_mostly)-1):\n",
    "    return_t.append(nav_montly[i+1]-nav_montly[i]/nav_montly[i])\n",
    "print(return_t)"
   ]
  },
  {
   "cell_type": "code",
   "execution_count": 5,
   "metadata": {
    "collapsed": true
   },
   "outputs": [],
   "source": [
    "#Reading of the input file \n",
    "data=pd.read_csv(PATH_TO_DATA)"
   ]
  },
  {
   "cell_type": "code",
   "execution_count": 18,
   "metadata": {},
   "outputs": [
    {
     "name": "stdout",
     "output_type": "stream",
     "text": [
      "97.22\n",
      "85.63\n",
      "98.08\n",
      "81.07\n",
      "94.04\n",
      "88.92\n",
      "85.15\n",
      "91.01\n",
      "85.8\n",
      "93.63\n",
      "98.04\n",
      "88.85\n",
      "75.14\n",
      "94.38\n",
      "91.23\n",
      "89.56\n",
      "90.22\n",
      "62.93\n",
      "79.48\n",
      "98.77\n",
      "97.51\n",
      "98.96\n",
      "86.13\n",
      "99.63\n",
      "90.54\n",
      "96.87\n",
      "95.57\n",
      "97.22\n",
      "85.63\n",
      "98.08\n",
      "81.07\n",
      "94.04\n",
      "88.92\n",
      "85.15\n",
      "91.01\n",
      "85.8\n",
      "93.63\n",
      "98.04\n",
      "88.85\n",
      "75.14\n",
      "94.38\n",
      "91.23\n",
      "89.56\n",
      "90.22\n",
      "62.93\n",
      "79.48\n",
      "98.77\n",
      "97.51\n",
      "98.96\n",
      "86.13\n",
      "99.63\n",
      "90.54\n",
      "96.87\n",
      "95.57\n"
     ]
    }
   ],
   "source": [
    "Total_percentage_of_allocation=data['Total_percentage_of._allocation']\n",
    "for i in Total_percentage_of_allocation:\n",
    "    "
   ]
  },
  {
   "cell_type": "code",
   "execution_count": null,
   "metadata": {
    "collapsed": true
   },
   "outputs": [],
   "source": []
  }
 ],
 "metadata": {
  "kernelspec": {
   "display_name": "Python 2",
   "language": "python",
   "name": "python2"
  },
  "language_info": {
   "codemirror_mode": {
    "name": "ipython",
    "version": 2
   },
   "file_extension": ".py",
   "mimetype": "text/x-python",
   "name": "python",
   "nbconvert_exporter": "python",
   "pygments_lexer": "ipython2",
   "version": "2.7.13"
  }
 },
 "nbformat": 4,
 "nbformat_minor": 2
}
