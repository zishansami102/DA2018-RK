{
 "cells": [
  {
   "cell_type": "code",
   "execution_count": 39,
   "metadata": {
    "collapsed": true
   },
   "outputs": [],
   "source": [
    "import os\n",
    "import numpy as np\n",
    "import pandas as pd\n",
    "import itertools\n",
    "import datetime as dt"
   ]
  },
  {
   "cell_type": "code",
   "execution_count": 40,
   "metadata": {
    "collapsed": true
   },
   "outputs": [],
   "source": [
    "Base_path = \"/home/tennistetris/Documents/Data Analytics/Hall/Inter_hall\"\n",
    "folder = 'NAV_quarterly'\n",
    "Path_to_data = os.path.join(Base_path,folder)\n",
    "os.chdir(Path_to_data)"
   ]
  },
  {
   "cell_type": "code",
   "execution_count": 41,
   "metadata": {},
   "outputs": [],
   "source": [
    "List1 = ['01' , '04' , '07' , '10']\n",
    "List2 = ['2013' , '2014' , '2015' , '2016' , '2017']\n",
    "Quarters = list(itertools.product(List1,List2))\n",
    "\n",
    "List3 = list()\n",
    "\n",
    "for i in range(len(Quarters)):\n",
    "    temp = Quarters[i]\n",
    "    temp = temp[1]+'-'+temp[0]\n",
    "    temp = pd.Period(temp,'Q')\n",
    "    List3.append(temp)\n",
    "    \n",
    "Quarters = pd.Series(List3).sort_values().reset_index(drop = True)\n"
   ]
  },
  {
   "cell_type": "code",
   "execution_count": 43,
   "metadata": {},
   "outputs": [],
   "source": [
    "files  = os.listdir(Path_to_data)\n",
    "for file in files:\n",
    "    os.chdir(Path_to_data)\n",
    "    db = pd.read_csv(file , names = ['Quarters','AUM'])\n",
    "    Qtrs = db['Quarters']\n",
    "    Qtr_list = list()\n",
    "    for i in range(len(Qtrs)):\n",
    "        Qtr_list.append(pd.Period(Qtrs[i],'Q'))\n",
    "    db_new = pd.Series(np.zeros(len(Quarters)),index = Quarters)\n",
    "    j = 0\n",
    "    for i,Quarter in enumerate(Quarters):\n",
    "        if Quarter not in Qtr_list:\n",
    "            db_new[i] = 0\n",
    "        else:\n",
    "            db_new[i] = db.iloc[j,1]\n",
    "            j = j+1\n",
    "    os.chdir(os.path.join(Base_path,'NAV_quarterly_padded'))\n",
    "    db_new.to_csv(file)"
   ]
  },
  {
   "cell_type": "code",
   "execution_count": null,
   "metadata": {
    "collapsed": true
   },
   "outputs": [],
   "source": []
  }
 ],
 "metadata": {
  "kernelspec": {
   "display_name": "Python 3",
   "language": "python",
   "name": "python3"
  },
  "language_info": {
   "codemirror_mode": {
    "name": "ipython",
    "version": 2
   },
   "file_extension": ".py",
   "mimetype": "text/x-python",
   "name": "python",
   "nbconvert_exporter": "python",
   "pygments_lexer": "ipython2",
   "version": "2.7.12"
  }
 },
 "nbformat": 4,
 "nbformat_minor": 2
}
