{
 "cells": [
  {
   "cell_type": "code",
   "execution_count": 1,
   "metadata": {
    "collapsed": true
   },
   "outputs": [],
   "source": [
    "import numpy as np\n",
    "import pandas as pd \n",
    "import matplotlib.pyplot as plt\n",
    "%matplotlib inline"
   ]
  },
  {
   "cell_type": "code",
   "execution_count": 2,
   "metadata": {
    "collapsed": true
   },
   "outputs": [],
   "source": [
    "import os "
   ]
  },
  {
   "cell_type": "code",
   "execution_count": 3,
   "metadata": {},
   "outputs": [
    {
     "name": "stdout",
     "output_type": "stream",
     "text": [
      "/Users/jarvis/DA2018-RK/MF_IIT_DATA_V3_EDITED.csv\n"
     ]
    }
   ],
   "source": [
    "PATH=\"/Users/jarvis/DA2018-RK/\"\n",
    "DATA=\"MF_IIT_DATA_V3_EDITED.csv\"\n",
    "PATH_TO_DATA=os.path.join(PATH,DATA)\n",
    "EPHISLON=1e-14"
   ]
  },
  {
   "cell_type": "code",
   "execution_count": 189,
   "metadata": {
    "collapsed": true
   },
   "outputs": [],
   "source": [
    "PATH2=\"/Users/jarvis/DA2018-RK/NAV_data/Mix/\"\n",
    "PATH3=\"/Users/jarvis/Downloads/India 10-Year Bond Yield Historical Data.csv\"\n"
   ]
  },
  {
   "cell_type": "code",
   "execution_count": 21,
   "metadata": {
    "collapsed": true
   },
   "outputs": [],
   "source": [
    "nav_data=pd.read_csv(PATH2+\"100033.csv\")"
   ]
  },
  {
   "cell_type": "code",
   "execution_count": 205,
   "metadata": {},
   "outputs": [
    {
     "data": {
      "text/html": [
       "<div>\n",
       "<style>\n",
       "    .dataframe thead tr:only-child th {\n",
       "        text-align: right;\n",
       "    }\n",
       "\n",
       "    .dataframe thead th {\n",
       "        text-align: left;\n",
       "    }\n",
       "\n",
       "    .dataframe tbody tr th {\n",
       "        vertical-align: top;\n",
       "    }\n",
       "</style>\n",
       "<table border=\"1\" class=\"dataframe\">\n",
       "  <thead>\n",
       "    <tr style=\"text-align: right;\">\n",
       "      <th></th>\n",
       "      <th>Unnamed: 0</th>\n",
       "      <th>Serial_No</th>\n",
       "      <th>Fund_Name</th>\n",
       "      <th>ID</th>\n",
       "      <th>Fund_Family</th>\n",
       "      <th>Fund_Class</th>\n",
       "      <th>Plan</th>\n",
       "      <th>Options</th>\n",
       "      <th>Riskometer</th>\n",
       "      <th>CRISIL_MF_RANK</th>\n",
       "      <th>...</th>\n",
       "      <th>Chemicals</th>\n",
       "      <th>Food_Beverages</th>\n",
       "      <th>Services</th>\n",
       "      <th>NonDurable</th>\n",
       "      <th>Retail_Real_estate</th>\n",
       "      <th>Utilities</th>\n",
       "      <th>Telecommunication</th>\n",
       "      <th>Cement</th>\n",
       "      <th>IT</th>\n",
       "      <th>ManufacturingMedia</th>\n",
       "    </tr>\n",
       "  </thead>\n",
       "  <tbody>\n",
       "    <tr>\n",
       "      <th>0</th>\n",
       "      <td>1</td>\n",
       "      <td>1</td>\n",
       "      <td>Aditya Birla Sun Life Banking And Financial Se...</td>\n",
       "      <td>125597.0</td>\n",
       "      <td>Aditya Birla Sun Life Mutual Fund</td>\n",
       "      <td>Sector - Banking &amp; Finance</td>\n",
       "      <td>Direct</td>\n",
       "      <td>Growth</td>\n",
       "      <td>H</td>\n",
       "      <td>NR</td>\n",
       "      <td>...</td>\n",
       "      <td>0.0</td>\n",
       "      <td>0.0</td>\n",
       "      <td>0.0</td>\n",
       "      <td>0.0</td>\n",
       "      <td>0.0</td>\n",
       "      <td>0.00</td>\n",
       "      <td>0.0</td>\n",
       "      <td>0.0</td>\n",
       "      <td>0.0</td>\n",
       "      <td>0</td>\n",
       "    </tr>\n",
       "    <tr>\n",
       "      <th>1</th>\n",
       "      <td>2</td>\n",
       "      <td>2</td>\n",
       "      <td>Aditya Birla Sun Life Frontline Equity Fund - ...</td>\n",
       "      <td>119528.0</td>\n",
       "      <td>Aditya Birla Sun Life Mutual Fund</td>\n",
       "      <td>Large Cap</td>\n",
       "      <td>Direct</td>\n",
       "      <td>Growth</td>\n",
       "      <td>MH</td>\n",
       "      <td>4</td>\n",
       "      <td>...</td>\n",
       "      <td>0.0</td>\n",
       "      <td>0.0</td>\n",
       "      <td>0.0</td>\n",
       "      <td>0.0</td>\n",
       "      <td>0.0</td>\n",
       "      <td>0.00</td>\n",
       "      <td>0.0</td>\n",
       "      <td>0.0</td>\n",
       "      <td>0.0</td>\n",
       "      <td>0</td>\n",
       "    </tr>\n",
       "    <tr>\n",
       "      <th>2</th>\n",
       "      <td>3</td>\n",
       "      <td>3</td>\n",
       "      <td>Aditya Birla Sun Life New Millennium Fund - Di...</td>\n",
       "      <td>120539.0</td>\n",
       "      <td>Aditya Birla Sun Life Mutual Fund</td>\n",
       "      <td>Sector - Technology</td>\n",
       "      <td>Direct</td>\n",
       "      <td>Growth</td>\n",
       "      <td>H</td>\n",
       "      <td>NR</td>\n",
       "      <td>...</td>\n",
       "      <td>0.0</td>\n",
       "      <td>0.0</td>\n",
       "      <td>0.0</td>\n",
       "      <td>0.0</td>\n",
       "      <td>0.0</td>\n",
       "      <td>0.00</td>\n",
       "      <td>0.0</td>\n",
       "      <td>0.0</td>\n",
       "      <td>0.0</td>\n",
       "      <td>0</td>\n",
       "    </tr>\n",
       "    <tr>\n",
       "      <th>3</th>\n",
       "      <td>4</td>\n",
       "      <td>4</td>\n",
       "      <td>Aditya Birla Sun Life Top 100 Fund - Direct Pl...</td>\n",
       "      <td>119564.0</td>\n",
       "      <td>Aditya Birla Sun Life Mutual Fund</td>\n",
       "      <td>Large Cap</td>\n",
       "      <td>Direct</td>\n",
       "      <td>Growth</td>\n",
       "      <td>MH</td>\n",
       "      <td>5</td>\n",
       "      <td>...</td>\n",
       "      <td>0.0</td>\n",
       "      <td>0.0</td>\n",
       "      <td>0.0</td>\n",
       "      <td>0.0</td>\n",
       "      <td>0.0</td>\n",
       "      <td>2.78</td>\n",
       "      <td>0.0</td>\n",
       "      <td>0.0</td>\n",
       "      <td>0.0</td>\n",
       "      <td>0</td>\n",
       "    </tr>\n",
       "    <tr>\n",
       "      <th>4</th>\n",
       "      <td>5</td>\n",
       "      <td>5</td>\n",
       "      <td>HDFC Large Cap Fund - Direct Plan (G)</td>\n",
       "      <td>130498.0</td>\n",
       "      <td>HDFC Mutual Fund</td>\n",
       "      <td>Large Cap</td>\n",
       "      <td>Direct</td>\n",
       "      <td>Growth</td>\n",
       "      <td>MH</td>\n",
       "      <td>1</td>\n",
       "      <td>...</td>\n",
       "      <td>0.0</td>\n",
       "      <td>0.0</td>\n",
       "      <td>0.0</td>\n",
       "      <td>0.0</td>\n",
       "      <td>0.0</td>\n",
       "      <td>4.01</td>\n",
       "      <td>0.0</td>\n",
       "      <td>3.2</td>\n",
       "      <td>0.0</td>\n",
       "      <td>0</td>\n",
       "    </tr>\n",
       "  </tbody>\n",
       "</table>\n",
       "<p>5 rows × 56 columns</p>\n",
       "</div>"
      ],
      "text/plain": [
       "   Unnamed: 0  Serial_No                                          Fund_Name  \\\n",
       "0           1          1  Aditya Birla Sun Life Banking And Financial Se...   \n",
       "1           2          2  Aditya Birla Sun Life Frontline Equity Fund - ...   \n",
       "2           3          3  Aditya Birla Sun Life New Millennium Fund - Di...   \n",
       "3           4          4  Aditya Birla Sun Life Top 100 Fund - Direct Pl...   \n",
       "4           5          5              HDFC Large Cap Fund - Direct Plan (G)   \n",
       "\n",
       "         ID                         Fund_Family                  Fund_Class  \\\n",
       "0  125597.0  Aditya Birla Sun Life Mutual Fund   Sector - Banking & Finance   \n",
       "1  119528.0  Aditya Birla Sun Life Mutual Fund                    Large Cap   \n",
       "2  120539.0  Aditya Birla Sun Life Mutual Fund          Sector - Technology   \n",
       "3  119564.0  Aditya Birla Sun Life Mutual Fund                    Large Cap   \n",
       "4  130498.0                    HDFC Mutual Fund                   Large Cap   \n",
       "\n",
       "     Plan Options Riskometer CRISIL_MF_RANK        ...          Chemicals  \\\n",
       "0  Direct  Growth          H             NR        ...                0.0   \n",
       "1  Direct  Growth         MH              4        ...                0.0   \n",
       "2  Direct  Growth          H             NR        ...                0.0   \n",
       "3  Direct  Growth         MH              5        ...                0.0   \n",
       "4  Direct  Growth         MH              1        ...                0.0   \n",
       "\n",
       "  Food_Beverages  Services NonDurable  Retail_Real_estate Utilities  \\\n",
       "0            0.0       0.0        0.0                 0.0      0.00   \n",
       "1            0.0       0.0        0.0                 0.0      0.00   \n",
       "2            0.0       0.0        0.0                 0.0      0.00   \n",
       "3            0.0       0.0        0.0                 0.0      2.78   \n",
       "4            0.0       0.0        0.0                 0.0      4.01   \n",
       "\n",
       "   Telecommunication Cement   IT ManufacturingMedia  \n",
       "0                0.0    0.0  0.0                  0  \n",
       "1                0.0    0.0  0.0                  0  \n",
       "2                0.0    0.0  0.0                  0  \n",
       "3                0.0    0.0  0.0                  0  \n",
       "4                0.0    3.2  0.0                  0  \n",
       "\n",
       "[5 rows x 56 columns]"
      ]
     },
     "execution_count": 205,
     "metadata": {},
     "output_type": "execute_result"
    }
   ],
   "source": [
    "data_main=pd.read_csv(PATH_TO_DATA)\n",
    "data_main.head()"
   ]
  },
  {
   "cell_type": "code",
   "execution_count": 22,
   "metadata": {
    "collapsed": true
   },
   "outputs": [],
   "source": [
    "nav_values=nav_data['Net Asset Value']\n",
    "time_stamp=nav_data['Date']"
   ]
  },
  {
   "cell_type": "code",
   "execution_count": 35,
   "metadata": {
    "collapsed": true
   },
   "outputs": [],
   "source": [
    "Months={'Jan':'1','Feb':'2','Mar':'3','Apr':'4','May':'5','Jun':'6','Jul':'7','Aug':'8','Sep':'9','Oct':'10','Nov':'11','Dec':'12'}\n",
    "from datetime import datetime"
   ]
  },
  {
   "cell_type": "code",
   "execution_count": 50,
   "metadata": {
    "collapsed": true
   },
   "outputs": [],
   "source": [
    "time_stamp_2=[]\n",
    "for i in time_stamp:\n",
    "    i=i.replace(i.split('-')[1],Months[i.split('-')[1]])\n",
    "    time_stamp_2.append(i)\n",
    "    "
   ]
  },
  {
   "cell_type": "code",
   "execution_count": 56,
   "metadata": {
    "collapsed": true
   },
   "outputs": [],
   "source": [
    "time_stamp_datetime=[]\n",
    "for i in time_stamp_2:\n",
    "    i=datetime.strptime(i, '%d-%m-%Y')\n",
    "    time_stamp_datetime.append(i)"
   ]
  },
  {
   "cell_type": "code",
   "execution_count": null,
   "metadata": {
    "collapsed": true
   },
   "outputs": [],
   "source": []
  },
  {
   "cell_type": "code",
   "execution_count": 70,
   "metadata": {
    "collapsed": true
   },
   "outputs": [],
   "source": [
    "names=['Jan','Feb','Mar','Apr','May','Jun','Jul','Aug','Sep','Oct','Nov','Dec']\n",
    "years=['2013','2014','2015','2016','2017']"
   ]
  },
  {
   "cell_type": "code",
   "execution_count": 157,
   "metadata": {},
   "outputs": [
    {
     "name": "stdout",
     "output_type": "stream",
     "text": [
      "[-0.020228873569161834, -0.070799088223220549, -0.018959512692889861, 0.034438895374312224, -0.0048302965978564106, -0.027453749799834587, -0.035824726518144868, -0.018921377390938306, 0.031324311519915486, 0.099173126222836916, -0.0031534289321500679, 0.040483746999011305, -0.044028946137333658, 0.047799178579321887, 0.096600789214498953, 0.0052476863687762922, 0.13495465529855719, 0.058585032995083892, -0.042942322575697425, 0.049586967746958095, 0.013751546816912045, 0.04448351862786315, 0.066707690404735634, 0.0072898193629458265, 0.061911344559466334, -0.00158695355169634, -0.033145205368700463, -0.057536778075907728, 0.046556542501598575, -0.012273402430807207, 0.025592174826151417, -0.050251829708316285, 0.01568700179524091, -0.0027773509598080373, -0.0060733821385796768, 0.01320741468373042, -0.053678149277606294, -0.098650874359171553, 0.076041923424365207, 0.036404389195254169, 0.028590755208176725, 0.042520750683375332, 0.071174104273624181, 0.031574424919541252, 0.0049943350123756447, -0.016373196928237424, -0.087473260212446766, -0.024179293169939803, 0.074043150809147945, 0.019689390374016853, 0.028081169922003855, 0.038999352700137026, 0.011421623912898545, -0.00028149911257761677, 0.059168161861452746, 0.0093684148642834437, -0.015787752257879865, 0.032800480046342666, -0.011428435117973408, 0.044058189314202648]\n"
     ]
    }
   ],
   "source": [
    "nav_montly=[]\n",
    "value=[]\n",
    "for year in years:\n",
    "    for name in names:\n",
    "        name_year=name+\"-\"+year\n",
    "        for i in range(len(time_stamp)):\n",
    "            if name_year in time_stamp[i]:\n",
    "                value.append(nav_values[i])\n",
    "        nav_montly.append(np.log(value[-1]/value[0]))\n",
    "        value[:]=[]\n"
   ]
  },
  {
   "cell_type": "code",
   "execution_count": null,
   "metadata": {
    "collapsed": true
   },
   "outputs": [],
   "source": []
  },
  {
   "cell_type": "code",
   "execution_count": 164,
   "metadata": {},
   "outputs": [
    {
     "name": "stdout",
     "output_type": "stream",
     "text": [
      "59\n"
     ]
    }
   ],
   "source": [
    "return_t1=[]\n",
    "for i in range(len(nav_montly)-1):\n",
    "    return_t1.append((nav_montly[i+1]-nav_montly[i])/nav_montly[i])\n",
    "return_t1_bar=np.sum(return_t1)/len(return_t1)\n"
   ]
  },
  {
   "cell_type": "code",
   "execution_count": 166,
   "metadata": {
    "collapsed": true
   },
   "outputs": [],
   "source": [
    "market_index=np.random.rand(60)\n",
    "return_m1=[]\n",
    "for i in range(len(market_index)-1):\n",
    "    return_m1.append((market_index[i+1]-market_index[i])/market_index[i])\n",
    "return_m1_bar=np.sum(return_m1)/len(return_m1)"
   ]
  },
  {
   "cell_type": "code",
   "execution_count": 167,
   "metadata": {},
   "outputs": [
    {
     "name": "stdout",
     "output_type": "stream",
     "text": [
      "[-0.34606836538883312, -0.71095694288673261, 7.3907550540887419, -0.76173433734292673, 2.9014883777973632, -0.49768880249594172, 1.3995949215241619, -0.69330002347850239, 0.29597526995570389, -0.14332917489527799, 1.9704020674258798, -0.10895601796419689, -0.88280118589587975, 4.6519667229249375, -0.38423334168126405, 1.5940811565351187, -0.12880084714413431, -0.63525529085412791, -0.21912679875916585, 0.18037393489535886, 1.126566356244542, -0.73284031264925598, -0.5239936647824891, 7.1764080154266017, -0.64045767672556653, 1.1998500525976723, 0.85787244161050968, -0.43117784662792991, 0.71000904947926335, 0.11302417368086677, -0.33828010209533205, 0.47907317803408705, -0.54227583192664708, 0.97060318833767079, -0.3218268385378516, -0.32243373762193916, 0.13403640062006977, 1.2212390027868667, -0.30915626702773585, -0.57671251205299456, -0.8719919514223422, 5.3126562923032834, -0.59729729192517389, 5.2178022709233138, -0.69572236214931327, 3.3732751322741863, -0.58371703850045487, 1.6929871777473084, -0.78706728683783722, 2.1550922430739199, -0.84709875580487148, 9.0032538657895618, -0.19195288016417256, 0.14078781096341414, -0.72488271334514065, 0.26834277535927237, -0.78128104135344223, -0.73128134075846563, 50.073863733438124]\n",
      "[2.4999026505930182, -0.73220682400438664, -2.8164441213316307, -1.1402570130475003, 4.683657150995244, 0.30491196209418059, -0.47183470105892322, -2.655498480513216, 2.1660113634032867, -1.0317972121304764, -13.838008361713328, -2.0875709241639351, -2.0856307673190324, 1.0209717423112545, -0.94567656836504754, 24.716981887777578, -0.56589098119307168, -1.7329913525746568, -2.1547341823337036, -0.72267820676016969, 2.2348010896604045, 0.49960462801501332, -0.89071995569451889, 7.4928502994411463, -1.0256326778716953, 19.88605891033837, 0.73590048502884253, -1.8091614452268594, -1.263623580517943, -3.085173607761206, -2.9635623017457018, -1.3121677735178037, -1.1770479149591622, 1.1867535743482169, -3.174639168484648, -5.0642434998069552, 0.83782182669861893, -1.7708185448768461, -0.52125896405732497, -0.21463439326420736, 0.48722027011076435, 0.67386753831351509, -0.55637762860835671, -0.84182340533193134, -4.2783537523345316, 4.342466751962732, -0.72358074786265625, -4.0622545617338357, -0.7340822188298306, 0.42620819581398678, 0.38880797375816939, -0.70713298754678, -1.0246461549359647, -211.18951470100467, -0.8416645951209305, -2.6852106238452125, -3.0775902427764241, -1.3484228005756795, -4.8551375459018606]\n"
     ]
    }
   ],
   "source": [
    "print(return_m1)\n",
    "print(return_t1)"
   ]
  },
  {
   "cell_type": "code",
   "execution_count": 168,
   "metadata": {},
   "outputs": [
    {
     "name": "stdout",
     "output_type": "stream",
     "text": [
      "(59,)\n",
      "(59,)\n"
     ]
    }
   ],
   "source": [
    "return_m=np.asarray(return_m)\n",
    "return_t=np.asarray(return_t)\n",
    "print(return_m.shape)\n",
    "print(return_t.shape)"
   ]
  },
  {
   "cell_type": "code",
   "execution_count": 169,
   "metadata": {},
   "outputs": [
    {
     "name": "stdout",
     "output_type": "stream",
     "text": [
      "-0.987052521205\n",
      "-0.000363793222952\n"
     ]
    }
   ],
   "source": [
    "print(return_t_bar)\n",
    "return_t_mean=[]\n",
    "return_m_mean=[]\n",
    "return_t_mean[:]=[x-return_t_bar for x in return_t]\n",
    "return_m_mean[:]=[x-return_m_bar for x in return_m]\n",
    "sigma_p=np.sqrt(np.sum(np.square(return_t_mean))/(len(return_t_mean)-1))\n",
    "sigma_m=np.sqrt(np.sum(np.square(return_m_mean))/(len(return_m)-1))\n",
    "X = np.vstack((return_t,return_m))\n",
    "covariance=np.cov(X)[0][1]\n",
    "beta=covariance/(sigma_m*sigma_m)\n",
    "print(beta)\n",
    " "
   ]
  },
  {
   "cell_type": "code",
   "execution_count": 155,
   "metadata": {},
   "outputs": [
    {
     "name": "stdout",
     "output_type": "stream",
     "text": [
      "-0.000363793222952\n"
     ]
    }
   ],
   "source": []
  },
  {
   "cell_type": "code",
   "execution_count": 193,
   "metadata": {
    "collapsed": true
   },
   "outputs": [],
   "source": [
    "#Reading of the input file for sharps ratio\n",
    "data_rf=pd.read_csv(PATH3)"
   ]
  },
  {
   "cell_type": "code",
   "execution_count": 183,
   "metadata": {
    "collapsed": true
   },
   "outputs": [],
   "source": [
    "\n",
    "date=data_rf['Date']\n",
    "price=data_rf['Price']\n",
    "return_f=[]\n",
    "for i in range(58,-1,-1):\n",
    "    return_f.append(price[i])\n",
    "return_f=pd.to_numeric(return_f)"
   ]
  },
  {
   "cell_type": "code",
   "execution_count": 185,
   "metadata": {},
   "outputs": [
    {
     "name": "stdout",
     "output_type": "stream",
     "text": [
      "[-193.27891074 -194.03874093 -187.93600358 -182.69049821 -183.17939966\n",
      " -198.94138476 -207.91178176 -210.26200392 -205.96480516 -217.46858512\n",
      " -211.44712944 -212.47389687 -212.06701391 -209.91026302 -212.31664606\n",
      " -205.53731877 -209.37034398 -211.02412933 -205.63170616 -205.34721459\n",
      " -199.51820376 -194.93195844 -191.24561355 -186.52111897 -188.64970478\n",
      " -189.50457369 -192.7113722  -189.51101903 -191.73321338 -189.79118397\n",
      " -190.97638383 -184.23526666 -186.79532653 -190.00006034 -188.97830428\n",
      " -190.96398638 -188.54303422 -181.24536402 -181.54007634 -182.44368492\n",
      " -181.68883439 -174.88905537 -174.57785894 -171.95392836 -170.77329988\n",
      " -158.47915519 -162.94615143 -158.51121611 -169.66981789 -165.66343079\n",
      " -171.26228772 -165.37513849 -162.32165907 -160.06446205 -162.43727647\n",
      " -166.02797464 -169.1919888  -174.46986884 -178.80303939]\n"
     ]
    }
   ],
   "source": [
    "sharpes=(return_t-return_f)/sigma_p\n",
    "print(sharpes)"
   ]
  },
  {
   "cell_type": "code",
   "execution_count": 198,
   "metadata": {
    "collapsed": true
   },
   "outputs": [],
   "source": [
    "PATH4=\"/Users/jarvis/Downloads/cd.csv\""
   ]
  },
  {
   "cell_type": "code",
   "execution_count": 199,
   "metadata": {
    "collapsed": true
   },
   "outputs": [],
   "source": [
    "data_cd=pd.read_csv(PATH4)"
   ]
  },
  {
   "cell_type": "code",
   "execution_count": 200,
   "metadata": {
    "collapsed": true
   },
   "outputs": [],
   "source": [
    "nifty=data_cd['Nifty 50 Historical Data']"
   ]
  },
  {
   "cell_type": "code",
   "execution_count": 201,
   "metadata": {},
   "outputs": [
    {
     "name": "stdout",
     "output_type": "stream",
     "text": [
      "21\n"
     ]
    }
   ],
   "source": [
    "print(len(nifty))"
   ]
  },
  {
   "cell_type": "code",
   "execution_count": null,
   "metadata": {
    "collapsed": true
   },
   "outputs": [],
   "source": [
    "for i in range(len(nifty)):\n",
    "    return"
   ]
  }
 ],
 "metadata": {
  "kernelspec": {
   "display_name": "Python 2",
   "language": "python",
   "name": "python2"
  },
  "language_info": {
   "codemirror_mode": {
    "name": "ipython",
    "version": 2
   },
   "file_extension": ".py",
   "mimetype": "text/x-python",
   "name": "python",
   "nbconvert_exporter": "python",
   "pygments_lexer": "ipython2",
   "version": "2.7.12"
  }
 },
 "nbformat": 4,
 "nbformat_minor": 2
}
