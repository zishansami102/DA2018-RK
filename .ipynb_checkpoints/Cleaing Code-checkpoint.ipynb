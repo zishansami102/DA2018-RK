{
 "cells": [
  {
   "cell_type": "code",
   "execution_count": 6,
   "metadata": {
    "collapsed": true
   },
   "outputs": [],
   "source": [
    "import numpy as np\n",
    "import pandas as pd\n",
    "import matplotlib.pyplot as plt\n",
    "import os"
   ]
  },
  {
   "cell_type": "code",
   "execution_count": 7,
   "metadata": {
    "collapsed": true
   },
   "outputs": [],
   "source": [
    "path = \"/home/tennistetris/Documents/Data Analytics/Hall/Inter_hall\"\n",
    "data_path = \"DA_original_files/Data_csv\"\n",
    "pathtodata = os.path.join(path,data_path)\n",
    "os.chdir(pathtodata)\n",
    "Csv_files = os.listdir(pathtodata)"
   ]
  },
  {
   "cell_type": "code",
   "execution_count": 8,
   "metadata": {},
   "outputs": [
    {
     "data": {
      "text/html": [
       "<div>\n",
       "<style scoped>\n",
       "    .dataframe tbody tr th:only-of-type {\n",
       "        vertical-align: middle;\n",
       "    }\n",
       "\n",
       "    .dataframe tbody tr th {\n",
       "        vertical-align: top;\n",
       "    }\n",
       "\n",
       "    .dataframe thead th {\n",
       "        text-align: right;\n",
       "    }\n",
       "</style>\n",
       "<table border=\"1\" class=\"dataframe\">\n",
       "  <thead>\n",
       "    <tr style=\"text-align: right;\">\n",
       "      <th></th>\n",
       "      <th>Scheme Code</th>\n",
       "      <th>Scheme Name</th>\n",
       "      <th>Net Asset Value</th>\n",
       "      <th>Repurchase Price</th>\n",
       "      <th>Sale Price</th>\n",
       "      <th>Date</th>\n",
       "    </tr>\n",
       "  </thead>\n",
       "  <tbody>\n",
       "    <tr>\n",
       "      <th>0</th>\n",
       "      <td>112343</td>\n",
       "      <td>ICICI Prudential Banking and PSU Debt Fund -  ...</td>\n",
       "      <td>10.0476</td>\n",
       "      <td>10.0225</td>\n",
       "      <td>10.0476</td>\n",
       "      <td>01-Jan-2013</td>\n",
       "    </tr>\n",
       "    <tr>\n",
       "      <th>1</th>\n",
       "      <td>112343</td>\n",
       "      <td>ICICI Prudential Banking and PSU Debt Fund -  ...</td>\n",
       "      <td>10.0476</td>\n",
       "      <td>10.0225</td>\n",
       "      <td>10.0476</td>\n",
       "      <td>02-Jan-2013</td>\n",
       "    </tr>\n",
       "    <tr>\n",
       "      <th>2</th>\n",
       "      <td>112343</td>\n",
       "      <td>ICICI Prudential Banking and PSU Debt Fund -  ...</td>\n",
       "      <td>10.0476</td>\n",
       "      <td>10.0225</td>\n",
       "      <td>10.0476</td>\n",
       "      <td>03-Jan-2013</td>\n",
       "    </tr>\n",
       "    <tr>\n",
       "      <th>3</th>\n",
       "      <td>112343</td>\n",
       "      <td>ICICI Prudential Banking and PSU Debt Fund -  ...</td>\n",
       "      <td>10.0476</td>\n",
       "      <td>10.0225</td>\n",
       "      <td>10.0476</td>\n",
       "      <td>04-Jan-2013</td>\n",
       "    </tr>\n",
       "    <tr>\n",
       "      <th>4</th>\n",
       "      <td>112343</td>\n",
       "      <td>ICICI Prudential Banking and PSU Debt Fund -  ...</td>\n",
       "      <td>10.0476</td>\n",
       "      <td>10.0225</td>\n",
       "      <td>10.0476</td>\n",
       "      <td>07-Jan-2013</td>\n",
       "    </tr>\n",
       "  </tbody>\n",
       "</table>\n",
       "</div>"
      ],
      "text/plain": [
       "  Scheme Code                                        Scheme Name  \\\n",
       "0      112343  ICICI Prudential Banking and PSU Debt Fund -  ...   \n",
       "1      112343  ICICI Prudential Banking and PSU Debt Fund -  ...   \n",
       "2      112343  ICICI Prudential Banking and PSU Debt Fund -  ...   \n",
       "3      112343  ICICI Prudential Banking and PSU Debt Fund -  ...   \n",
       "4      112343  ICICI Prudential Banking and PSU Debt Fund -  ...   \n",
       "\n",
       "  Net Asset Value Repurchase Price Sale Price         Date  \n",
       "0         10.0476          10.0225    10.0476  01-Jan-2013  \n",
       "1         10.0476          10.0225    10.0476  02-Jan-2013  \n",
       "2         10.0476          10.0225    10.0476  03-Jan-2013  \n",
       "3         10.0476          10.0225    10.0476  04-Jan-2013  \n",
       "4         10.0476          10.0225    10.0476  07-Jan-2013  "
      ]
     },
     "execution_count": 8,
     "metadata": {},
     "output_type": "execute_result"
    }
   ],
   "source": [
    "file = Csv_files[0]\n",
    "db = pd.read_csv(file)\n",
    "db.head()"
   ]
  },
  {
   "cell_type": "code",
   "execution_count": 13,
   "metadata": {},
   "outputs": [
    {
     "data": {
      "text/plain": [
       "0    112343\n",
       "1    112343\n",
       "2    112343\n",
       "3    112343\n",
       "4    112343\n",
       "Name: Scheme Code, dtype: category\n",
       "Categories (607, object): [100364, 100365, 100366, 100367, ..., Open Ended Schemes ( Gilt ), Open Ended Schemes ( Growth ), Open Ended Schemes ( Liquid ), Open Ended Schemes ( Other ETFs )]"
      ]
     },
     "execution_count": 13,
     "metadata": {},
     "output_type": "execute_result"
    }
   ],
   "source": [
    "columns = db.columns\n",
    "db[columns[1]] = db[columns[1]].astype(\"category\")\n",
    "db[columns[1]].head()"
   ]
  },
  {
   "cell_type": "code",
   "execution_count": null,
   "metadata": {
    "collapsed": true
   },
   "outputs": [],
   "source": []
  }
 ],
 "metadata": {
  "kernelspec": {
   "display_name": "Python 3",
   "language": "python",
   "name": "python3"
  },
  "language_info": {
   "codemirror_mode": {
    "name": "ipython",
    "version": 2
   },
   "file_extension": ".py",
   "mimetype": "text/x-python",
   "name": "python",
   "nbconvert_exporter": "python",
   "pygments_lexer": "ipython2",
   "version": "2.7.12"
  }
 },
 "nbformat": 4,
 "nbformat_minor": 2
}
