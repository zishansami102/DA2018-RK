{
 "cells": [
  {
   "cell_type": "markdown",
   "metadata": {},
   "source": [
    "### The main purpose of this code is to extract time series data and label then by the scheme code.This will help in modelling data further down the line.Only required once."
   ]
  },
  {
   "cell_type": "code",
   "execution_count": 7,
   "metadata": {},
   "outputs": [],
   "source": [
    "import numpy as np\n",
    "import matplotlib.pyplot as plt\n",
    "import pandas as pd\n",
    "import os"
   ]
  },
  {
   "cell_type": "code",
   "execution_count": 8,
   "metadata": {
    "collapsed": true
   },
   "outputs": [],
   "source": [
    "#Change the base path before executing code\n",
    "Base_path = \"/home/tennistetris/Documents/Data Analytics/Hall/Inter_hall\"\n",
    "data = \"All_equity\"\n",
    "Path_to_data = os.path.join(Base_path,data)\n",
    "files = os.listdir(Path_to_data)\n",
    "os.chdir(Path_to_data)"
   ]
  },
  {
   "cell_type": "code",
   "execution_count": 11,
   "metadata": {},
   "outputs": [],
   "source": [
    "os.chdir(Base_path)\n",
    "if(not(\"NAV_data\" in os.listdir(Base_path))):\n",
    "    os.mkdir(\"NAV_data\")\n",
    "    Write_path = Base_path + \"NAV_data\""
   ]
  },
  {
   "cell_type": "code",
   "execution_count": null,
   "metadata": {},
   "outputs": [],
   "source": [
    "os.chdir(Path_to_data)\n",
    "db = pd.read_csv(files[0],header=None,names=[\"Scheme Code\",\"Scheme Name\",\"Net Asset Value\",\"Repurchase Price\",\"Sale Price\",\"Date\"],na_values='N.A.')\n",
    "columns = db.columns\n",
    "Dates = db[columns[5]]\n",
    "print(Dates[0])\n",
    "Index = list()\n",
    "\n",
    "for date in Dates:\n",
    "    Index.append(pd.to_datetime(date,format = '%d-%m-%Y'))\n",
    "    print Index\n",
    "print Index"
   ]
  },
  {
   "cell_type": "code",
   "execution_count": null,
   "metadata": {
    "collapsed": true
   },
   "outputs": [],
   "source": [
    "Unique_scheme_codes = db[columns[0]].unique().astype(\"string\")\n",
    "Scheme_codes = db[columns[0]]\n",
    "m = db.shape[0]\n",
    "index = np.zeros((m,1))\n",
    "\n",
    "for num in range(m):\n",
    "    index[m] = Scheme_codes[m]==code\n",
    "\n",
    "db_subset = db[index]\n",
    "db_subset = db_subset.drop([0,1,4])"
   ]
  },
  {
   "cell_type": "code",
   "execution_count": 6,
   "metadata": {},
   "outputs": [],
   "source": []
  },
  {
   "cell_type": "code",
   "execution_count": null,
   "metadata": {
    "collapsed": true
   },
   "outputs": [],
   "source": []
  }
 ],
 "metadata": {
  "kernelspec": {
   "display_name": "Python 3",
   "language": "python",
   "name": "python3"
  },
  "language_info": {
   "codemirror_mode": {
    "name": "ipython",
    "version": 2
   },
   "file_extension": ".py",
   "mimetype": "text/x-python",
   "name": "python",
   "nbconvert_exporter": "python",
   "pygments_lexer": "ipython2",
   "version": "2.7.12"
  }
 },
 "nbformat": 4,
 "nbformat_minor": 2
}
