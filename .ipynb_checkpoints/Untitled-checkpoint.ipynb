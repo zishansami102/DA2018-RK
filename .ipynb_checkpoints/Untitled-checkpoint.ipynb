{
 "cells": [
  {
   "cell_type": "code",
   "execution_count": 2,
   "metadata": {
    "collapsed": true
   },
   "outputs": [],
   "source": [
    "import os\n",
    "import numpy as np\n",
    "import pandas as pd"
   ]
  },
  {
   "cell_type": "code",
   "execution_count": 3,
   "metadata": {},
   "outputs": [],
   "source": [
    "#Change the base path before executing code\n",
    "Base_path = \"/home/tennistetris/Documents/Data Analytics/Hall/Inter_hall\"\n",
    "data = \"extracted_AUM_Data\"\n",
    "Path_to_data = os.path.join(Base_path,data)\n",
    "files = os.listdir(Path_to_data)\n",
    "os.chdir(Path_to_data)"
   ]
  },
  {
   "cell_type": "code",
   "execution_count": 16,
   "metadata": {},
   "outputs": [
    {
     "data": {
      "text/plain": [
       "['ICICI_Prudential_Mutual_Fund',\n",
       " 'Tata_Mutual_Fund',\n",
       " 'Sundaram_Mutual_Fund',\n",
       " 'HDFC_Mutual_Fund',\n",
       " 'SBI_Mutual_Fund',\n",
       " 'Reliance_Mutual_Fund',\n",
       " 'Aditya_Birla_Sun_Life_Mutual_Fund',\n",
       " 'UTI_Mutual_Fund']"
      ]
     },
     "execution_count": 16,
     "metadata": {},
     "output_type": "execute_result"
    }
   ],
   "source": [
    "Mutual_funds = os.listdir(os.path.join(Base_path,'All_equity'))\n",
    "for i,fund in enumerate(Mutual_funds):\n",
    "    Mutual_funds[i] = fund.split('.')[0].strip()"
   ]
  },
  {
   "cell_type": "code",
   "execution_count": 20,
   "metadata": {},
   "outputs": [],
   "source": [
    "Files_mapping = {'ICICI_Prudential_Mutual_Fund':'data20.csv','HDFC_Mutual_Fund':'data9.csv','UTI_Mutual_Fund':'data28.csv','Reliance_Mutual_Fund':'data21.csv','Tata_Mutual_Fund':'data25.csv','SBI_Mutual_Fund':'data22.csv','Sundaram_Mutual_Fund':'data33.csv','Aditya_Birla_Sun_Life_Mutual_Fund':'data3.csv'}"
   ]
  },
  {
   "cell_type": "code",
   "execution_count": 19,
   "metadata": {},
   "outputs": [
    {
     "ename": "KeyError",
     "evalue": "'ICICI_Prudential_Mutual_Fund'",
     "output_type": "error",
     "traceback": [
      "\u001b[0;31m---------------------------------------------------------------------------\u001b[0m",
      "\u001b[0;31mKeyError\u001b[0m                                  Traceback (most recent call last)",
      "\u001b[0;32m<ipython-input-19-e075cc031932>\u001b[0m in \u001b[0;36m<module>\u001b[0;34m()\u001b[0m\n\u001b[1;32m      1\u001b[0m \u001b[0mfund\u001b[0m \u001b[0;34m=\u001b[0m \u001b[0mMutual_funds\u001b[0m\u001b[0;34m[\u001b[0m\u001b[0;36m0\u001b[0m\u001b[0;34m]\u001b[0m\u001b[0;34m\u001b[0m\u001b[0m\n\u001b[0;32m----> 2\u001b[0;31m \u001b[0mfile\u001b[0m \u001b[0;34m=\u001b[0m \u001b[0mFiles_mapping\u001b[0m\u001b[0;34m[\u001b[0m\u001b[0mfund\u001b[0m\u001b[0;34m]\u001b[0m\u001b[0;34m\u001b[0m\u001b[0m\n\u001b[0m\u001b[1;32m      3\u001b[0m \u001b[0mdb\u001b[0m\u001b[0;34m=\u001b[0m \u001b[0mpd\u001b[0m\u001b[0;34m.\u001b[0m\u001b[0mread_csv\u001b[0m\u001b[0;34m(\u001b[0m\u001b[0mfile\u001b[0m\u001b[0;34m)\u001b[0m\u001b[0;34m\u001b[0m\u001b[0m\n\u001b[1;32m      4\u001b[0m \u001b[0mcolumns\u001b[0m \u001b[0;34m=\u001b[0m \u001b[0mdb\u001b[0m\u001b[0;34m.\u001b[0m\u001b[0mcolumns\u001b[0m\u001b[0;34m(\u001b[0m\u001b[0;34m)\u001b[0m\u001b[0;34m\u001b[0m\u001b[0m\n",
      "\u001b[0;31mKeyError\u001b[0m: 'ICICI_Prudential_Mutual_Fund'"
     ]
    }
   ],
   "source": [
    "fund = Mutual_funds[0]\n",
    "file = Files_mapping[fund]\n",
    "db= pd.read_csv(file)\n",
    "columns = db.columns()"
   ]
  },
  {
   "cell_type": "code",
   "execution_count": null,
   "metadata": {
    "collapsed": true
   },
   "outputs": [],
   "source": []
  }
 ],
 "metadata": {
  "kernelspec": {
   "display_name": "Python 3",
   "language": "python",
   "name": "python3"
  },
  "language_info": {
   "codemirror_mode": {
    "name": "ipython",
    "version": 2
   },
   "file_extension": ".py",
   "mimetype": "text/x-python",
   "name": "python",
   "nbconvert_exporter": "python",
   "pygments_lexer": "ipython2",
   "version": "2.7.12"
  }
 },
 "nbformat": 4,
 "nbformat_minor": 2
}
