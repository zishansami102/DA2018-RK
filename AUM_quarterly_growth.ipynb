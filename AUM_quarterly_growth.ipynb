{
 "cells": [
  {
   "cell_type": "code",
   "execution_count": 63,
   "metadata": {
    "collapsed": true
   },
   "outputs": [],
   "source": [
    "import os\n",
    "import numpy as np\n",
    "import pandas as pd\n",
    "import datetime as dt"
   ]
  },
  {
   "cell_type": "code",
   "execution_count": 64,
   "metadata": {
    "collapsed": true
   },
   "outputs": [],
   "source": [
    "#Change the base path before executing code\n",
    "Base_path = \"/home/tennistetris/Documents/Data Analytics/Hall/Inter_hall\"\n",
    "data = \"extracted_AUM_Data\"\n",
    "Path_to_data = os.path.join(Base_path,data)\n",
    "files = os.listdir(Path_to_data)\n",
    "os.chdir(Path_to_data)"
   ]
  },
  {
   "cell_type": "code",
   "execution_count": 67,
   "metadata": {},
   "outputs": [],
   "source": [
    "os.chdir(Base_path)\n",
    "if not('AUM_quarterly_growth' in os.listdir(Base_path)):\n",
    "    os.mkdir('AUM_quarterly_growth')"
   ]
  },
  {
   "cell_type": "code",
   "execution_count": 68,
   "metadata": {
    "collapsed": true
   },
   "outputs": [],
   "source": [
    "Write_path = os.path.join(Base_path , 'AUM_quarterly_growth')"
   ]
  },
  {
   "cell_type": "code",
   "execution_count": 69,
   "metadata": {
    "collapsed": true
   },
   "outputs": [],
   "source": [
    "Mutual_funds = os.listdir(os.path.join(Base_path,'All_equity'))\n",
    "for i,fund in enumerate(Mutual_funds):\n",
    "    Mutual_funds[i] = fund.split('.')[0].strip()"
   ]
  },
  {
   "cell_type": "code",
   "execution_count": 70,
   "metadata": {
    "collapsed": true
   },
   "outputs": [],
   "source": [
    "Files_mapping = {'ICICI_Prudential_Mutual_Fund':'data20.csv','HDFC_Mutual_Fund':'data9.csv','UTI_Mutual_Fund':'data28.csv','Reliance_Mutual_Fund':'data21.csv','Tata_Mutual_Fund':'data25.csv','SBI_Mutual_Fund':'data22.csv','Sundaram_Mutual_Fund':'data33.csv','Aditya_Birla_Sun_Life_Mutual_Fund':'data3.csv'}"
   ]
  },
  {
   "cell_type": "code",
   "execution_count": 71,
   "metadata": {},
   "outputs": [
    {
     "name": "stderr",
     "output_type": "stream",
     "text": [
      "/home/tennistetris/tensorflow/lib/python2.7/site-packages/ipykernel_launcher.py:7: SettingWithCopyWarning: \n",
      "A value is trying to be set on a copy of a slice from a DataFrame\n",
      "\n",
      "See the caveats in the documentation: http://pandas.pydata.org/pandas-docs/stable/indexing.html#indexing-view-versus-copy\n",
      "  import sys\n",
      "/home/tennistetris/tensorflow/lib/python2.7/site-packages/ipykernel_launcher.py:9: SettingWithCopyWarning: \n",
      "A value is trying to be set on a copy of a slice from a DataFrame\n",
      "\n",
      "See the caveats in the documentation: http://pandas.pydata.org/pandas-docs/stable/indexing.html#indexing-view-versus-copy\n",
      "  if __name__ == '__main__':\n"
     ]
    }
   ],
   "source": [
    "os.chdir(Base_path)\n",
    "db2 = pd.read_csv('MF_IIT_DATA_V3_EDITED.csv')\n",
    "IDs = db2['ID']\n",
    "#Removing NaNs\n",
    "for i in range(len(IDs)):\n",
    "    try:\n",
    "        IDs[i] = int(IDs[i])\n",
    "    except ValueError:\n",
    "        IDs[i] = 0"
   ]
  },
  {
   "cell_type": "code",
   "execution_count": 72,
   "metadata": {},
   "outputs": [],
   "source": [
    "for key in Files_mapping:\n",
    "    file = Files_mapping[key]\n",
    "    os.chdir(Path_to_data)\n",
    "    db = pd.read_csv(file)\n",
    "    columns = db.columns\n",
    "    db['AUM'] = db[columns[2]]+db[columns[3]]\n",
    "    db = db.drop(columns = ['scheme','Aum-Domestic','Aum-Foreign'])\n",
    "    columns = db.columns\n",
    "    index = db['id'].isin(IDs)\n",
    "    db = db[index]\n",
    "    db = db.groupby('Timeline Quarter').sum()\n",
    "    db = db.drop(columns = ['id'])\n",
    "    Quarterly = pd.Series(db.index)\n",
    "    for i in range(len(Quarterly)):\n",
    "        a = Quarterly[i]\n",
    "        temp = dt.datetime.strptime(a.split(' ')[0]+a.split(' ')[3],\"%B%Y\")\n",
    "        Quarterly[i] = pd.Period(temp,'M')\n",
    "    db.index = Quarterly\n",
    "    os.chdir(Write_path)\n",
    "    db.to_csv(key+'.csv')\n",
    "    "
   ]
  },
  {
   "cell_type": "code",
   "execution_count": null,
   "metadata": {
    "collapsed": true
   },
   "outputs": [],
   "source": []
  }
 ],
 "metadata": {
  "kernelspec": {
   "display_name": "Python 3",
   "language": "python",
   "name": "python3"
  },
  "language_info": {
   "codemirror_mode": {
    "name": "ipython",
    "version": 2
   },
   "file_extension": ".py",
   "mimetype": "text/x-python",
   "name": "python",
   "nbconvert_exporter": "python",
   "pygments_lexer": "ipython2",
   "version": "2.7.12"
  }
 },
 "nbformat": 4,
 "nbformat_minor": 2
}
