{
 "cells": [
  {
   "cell_type": "code",
   "execution_count": 101,
   "metadata": {
    "collapsed": true
   },
   "outputs": [],
   "source": [
    "import numpy as np\n",
    "import pandas as pd\n",
    "import datetime as dt\n",
    "import os"
   ]
  },
  {
   "cell_type": "code",
   "execution_count": 102,
   "metadata": {},
   "outputs": [
    {
     "name": "stdout",
     "output_type": "stream",
     "text": [
      "-1\n"
     ]
    }
   ],
   "source": [
    "Start_date = dt.datetime.strptime('01-01-2018' , '%d-%m-%Y')\n",
    "End_date = dt.datetime.strptime('05-01-2018' , '%d-%m-%Y')\n",
    "print (Date1 - Date2).days"
   ]
  },
  {
   "cell_type": "code",
   "execution_count": 103,
   "metadata": {},
   "outputs": [
    {
     "ename": "AttributeError",
     "evalue": "'Series' object has no attribute 'Index'",
     "output_type": "error",
     "traceback": [
      "\u001b[0;31m---------------------------------------------------------------------------\u001b[0m",
      "\u001b[0;31mAttributeError\u001b[0m                            Traceback (most recent call last)",
      "\u001b[0;32m<ipython-input-103-75de9e314911>\u001b[0m in \u001b[0;36m<module>\u001b[0;34m()\u001b[0m\n\u001b[0;32m----> 1\u001b[0;31m \u001b[0mIndex\u001b[0m  \u001b[0;34m=\u001b[0m \u001b[0mDates\u001b[0m\u001b[0;34m.\u001b[0m\u001b[0mIndex\u001b[0m\u001b[0;34m\u001b[0m\u001b[0m\n\u001b[0m\u001b[1;32m      2\u001b[0m \u001b[0mStart_date\u001b[0m \u001b[0;34m=\u001b[0m \u001b[0mIndex\u001b[0m\u001b[0;34m[\u001b[0m\u001b[0;36m0\u001b[0m\u001b[0;34m]\u001b[0m\u001b[0;34m\u001b[0m\u001b[0m\n\u001b[1;32m      3\u001b[0m \u001b[0mEnd_date\u001b[0m \u001b[0;34m=\u001b[0m \u001b[0mIndex\u001b[0m\u001b[0;34m[\u001b[0m\u001b[0mlen\u001b[0m\u001b[0;34m(\u001b[0m\u001b[0mIndex\u001b[0m\u001b[0;34m)\u001b[0m\u001b[0;34m-\u001b[0m\u001b[0;36m1\u001b[0m\u001b[0;34m]\u001b[0m\u001b[0;34m\u001b[0m\u001b[0m\n\u001b[1;32m      4\u001b[0m \u001b[0mNum_dates\u001b[0m \u001b[0;34m=\u001b[0m \u001b[0;34m(\u001b[0m\u001b[0mEnd_date\u001b[0m \u001b[0;34m-\u001b[0m \u001b[0mStart_date\u001b[0m\u001b[0;34m)\u001b[0m\u001b[0;34m.\u001b[0m\u001b[0mdays\u001b[0m\u001b[0;34m\u001b[0m\u001b[0m\n\u001b[1;32m      5\u001b[0m \u001b[0mCont_dates\u001b[0m \u001b[0;34m=\u001b[0m \u001b[0mpd\u001b[0m\u001b[0;34m.\u001b[0m\u001b[0mdate_range\u001b[0m\u001b[0;34m(\u001b[0m\u001b[0mStart_date\u001b[0m \u001b[0;34m,\u001b[0m\u001b[0mperiods\u001b[0m  \u001b[0;34m=\u001b[0m \u001b[0mNum_dates\u001b[0m \u001b[0;34m,\u001b[0m  \u001b[0mfreq\u001b[0m \u001b[0;34m=\u001b[0m \u001b[0;34m'D'\u001b[0m\u001b[0;34m)\u001b[0m\u001b[0;34m\u001b[0m\u001b[0m\n",
      "\u001b[0;32m/home/tennistetris/tensorflow/local/lib/python2.7/site-packages/pandas/core/generic.pyc\u001b[0m in \u001b[0;36m__getattr__\u001b[0;34m(self, name)\u001b[0m\n\u001b[1;32m   3612\u001b[0m             \u001b[0;32mif\u001b[0m \u001b[0mname\u001b[0m \u001b[0;32min\u001b[0m \u001b[0mself\u001b[0m\u001b[0;34m.\u001b[0m\u001b[0m_info_axis\u001b[0m\u001b[0;34m:\u001b[0m\u001b[0;34m\u001b[0m\u001b[0m\n\u001b[1;32m   3613\u001b[0m                 \u001b[0;32mreturn\u001b[0m \u001b[0mself\u001b[0m\u001b[0;34m[\u001b[0m\u001b[0mname\u001b[0m\u001b[0;34m]\u001b[0m\u001b[0;34m\u001b[0m\u001b[0m\n\u001b[0;32m-> 3614\u001b[0;31m             \u001b[0;32mreturn\u001b[0m \u001b[0mobject\u001b[0m\u001b[0;34m.\u001b[0m\u001b[0m__getattribute__\u001b[0m\u001b[0;34m(\u001b[0m\u001b[0mself\u001b[0m\u001b[0;34m,\u001b[0m \u001b[0mname\u001b[0m\u001b[0;34m)\u001b[0m\u001b[0;34m\u001b[0m\u001b[0m\n\u001b[0m\u001b[1;32m   3615\u001b[0m \u001b[0;34m\u001b[0m\u001b[0m\n\u001b[1;32m   3616\u001b[0m     \u001b[0;32mdef\u001b[0m \u001b[0m__setattr__\u001b[0m\u001b[0;34m(\u001b[0m\u001b[0mself\u001b[0m\u001b[0;34m,\u001b[0m \u001b[0mname\u001b[0m\u001b[0;34m,\u001b[0m \u001b[0mvalue\u001b[0m\u001b[0;34m)\u001b[0m\u001b[0;34m:\u001b[0m\u001b[0;34m\u001b[0m\u001b[0m\n",
      "\u001b[0;31mAttributeError\u001b[0m: 'Series' object has no attribute 'Index'"
     ]
    }
   ],
   "source": [
    "Index  = Dates.Index\n",
    "Start_date = Index[0]\n",
    "End_date = Index[len(Index)-1]\n",
    "Num_dates = (End_date - Start_date).days\n",
    "Cont_dates = pd.date_range(Start_date ,periods  = Num_dates ,  freq = 'D')"
   ]
  },
  {
   "cell_type": "code",
   "execution_count": 104,
   "metadata": {},
   "outputs": [],
   "source": [
    "def Continuous_dates(Values):\n",
    "    Index  = Values.index\n",
    "    Start_date = Index[0]\n",
    "    End_date = Index[len(Index)-1]\n",
    "    Num_dates = (End_date - Start_date).days\n",
    "    Cont_dates = pd.date_range(Start_date ,End_date)\n",
    "    ts = pd.Series(np.zeros(len(Cont_dates)),index = Cont_dates)\n",
    "    print Cont_dates\n",
    "    print ts.shape\n",
    "    print Values.shape\n",
    "    i = 0;j = 0\n",
    "    while(j<len(Index)):\n",
    "        #print (i,' : ',Cont_dates[i]);print(j,' : ',Index[j])\n",
    "        if((Cont_dates[i] - Index[j]).days == 0):\n",
    "            ts[i] = Values.iloc[j] \n",
    "            i = i+1;j=j+1\n",
    "        elif((Cont_dates[i] - Index[j]).days < 0):\n",
    "            ts[i] = Values.iloc[j-1]\n",
    "            i = i+1\n",
    "    return ts"
   ]
  },
  {
   "cell_type": "code",
   "execution_count": 100,
   "metadata": {},
   "outputs": [
    {
     "name": "stdout",
     "output_type": "stream",
     "text": [
      "DatetimeIndex(['2013-01-01', '2013-01-02', '2013-01-03', '2013-01-04',\n",
      "               '2013-01-05', '2013-01-06', '2013-01-07', '2013-01-08',\n",
      "               '2013-01-09', '2013-01-10',\n",
      "               ...\n",
      "               '2017-12-20', '2017-12-21', '2017-12-22', '2017-12-23',\n",
      "               '2017-12-24', '2017-12-25', '2017-12-26', '2017-12-27',\n",
      "               '2017-12-28', '2017-12-29'],\n",
      "              dtype='datetime64[ns]', length=1824, freq='D')\n",
      "(1824,)\n",
      "(1229,)\n",
      "2013-01-01    163.79\n",
      "2013-01-02    165.01\n",
      "2013-01-03    165.35\n",
      "2013-01-04    165.43\n",
      "2013-01-05    165.43\n",
      "2013-01-06    165.43\n",
      "2013-01-07    164.85\n",
      "2013-01-08    164.70\n",
      "2013-01-09    164.15\n",
      "2013-01-10    163.93\n",
      "2013-01-11    161.96\n",
      "2013-01-12    161.96\n",
      "2013-01-13    161.96\n",
      "2013-01-14    164.17\n",
      "2013-01-15    164.97\n",
      "2013-01-16    162.57\n",
      "2013-01-17    163.02\n",
      "2013-01-18    163.23\n",
      "2013-01-19    163.23\n",
      "2013-01-20    163.23\n",
      "2013-01-21    163.47\n",
      "2013-01-22    161.84\n",
      "2013-01-23    161.28\n",
      "2013-01-24    159.22\n",
      "2013-01-25    161.31\n",
      "2013-01-26    161.31\n",
      "2013-01-27    161.31\n",
      "2013-01-28    161.17\n",
      "2013-01-29    160.56\n",
      "2013-01-30    160.44\n",
      "               ...  \n",
      "2017-11-30    435.88\n",
      "2017-12-01    430.92\n",
      "2017-12-02    430.92\n",
      "2017-12-03    430.92\n",
      "2017-12-04    429.96\n",
      "2017-12-05    430.67\n",
      "2017-12-06    426.23\n",
      "2017-12-07    433.42\n",
      "2017-12-08    437.00\n",
      "2017-12-09    437.00\n",
      "2017-12-10    437.00\n",
      "2017-12-11    439.37\n",
      "2017-12-12    436.34\n",
      "2017-12-13    433.05\n",
      "2017-12-14    435.20\n",
      "2017-12-15    439.82\n",
      "2017-12-16    439.82\n",
      "2017-12-17    439.82\n",
      "2017-12-18    442.83\n",
      "2017-12-19    447.74\n",
      "2017-12-20    448.83\n",
      "2017-12-21    448.66\n",
      "2017-12-22    450.04\n",
      "2017-12-23    450.04\n",
      "2017-12-24    450.04\n",
      "2017-12-25    450.04\n",
      "2017-12-26    450.46\n",
      "2017-12-27    449.06\n",
      "2017-12-28    448.36\n",
      "2017-12-29    450.33\n",
      "Freq: D, Length: 1824, dtype: float64\n"
     ]
    }
   ],
   "source": [
    "os.chdir('/home/tennistetris/Documents/Data Analytics/Hall/Inter_hall/NAV_data/Mix')\n",
    "db = pd.read_csv('100033.csv')\n",
    "Index = list()\n",
    "for i in range(db.shape[0]):\n",
    "    Index.append(dt.datetime.strptime(db.iloc[i,6],'%d-%b-%Y'))\n",
    "NAV = pd.Series(db[db.columns[3]])\n",
    "NAV.index = Index\n",
    "NAV_modified = Continuous_dates(NAV)\n",
    "print NAV_modified"
   ]
  },
  {
   "cell_type": "code",
   "execution_count": 32,
   "metadata": {},
   "outputs": [
    {
     "data": {
      "text/plain": [
       "Index([u'Unnamed: 0', u'Scheme Code', u'Scheme Name', u'Net Asset Value',\n",
       "       u'Repurchase Price', u'Sale Price', u'Date'],\n",
       "      dtype='object')"
      ]
     },
     "execution_count": 32,
     "metadata": {},
     "output_type": "execute_result"
    }
   ],
   "source": [
    "columns = db.columns\n",
    "columns"
   ]
  },
  {
   "cell_type": "code",
   "execution_count": 33,
   "metadata": {
    "scrolled": true
   },
   "outputs": [
    {
     "data": {
      "text/html": [
       "<div>\n",
       "<style scoped>\n",
       "    .dataframe tbody tr th:only-of-type {\n",
       "        vertical-align: middle;\n",
       "    }\n",
       "\n",
       "    .dataframe tbody tr th {\n",
       "        vertical-align: top;\n",
       "    }\n",
       "\n",
       "    .dataframe thead th {\n",
       "        text-align: right;\n",
       "    }\n",
       "</style>\n",
       "<table border=\"1\" class=\"dataframe\">\n",
       "  <thead>\n",
       "    <tr style=\"text-align: right;\">\n",
       "      <th></th>\n",
       "      <th>Unnamed: 0</th>\n",
       "      <th>Scheme Code</th>\n",
       "      <th>Scheme Name</th>\n",
       "      <th>Net Asset Value</th>\n",
       "      <th>Repurchase Price</th>\n",
       "      <th>Sale Price</th>\n",
       "      <th>Date</th>\n",
       "    </tr>\n",
       "  </thead>\n",
       "  <tbody>\n",
       "    <tr>\n",
       "      <th>0</th>\n",
       "      <td>2456</td>\n",
       "      <td>100033</td>\n",
       "      <td>Aditya Birla Sun Life Advantage Fund - Regular...</td>\n",
       "      <td>163.79</td>\n",
       "      <td>162.97</td>\n",
       "      <td>163.79</td>\n",
       "      <td>01-Jan-2013</td>\n",
       "    </tr>\n",
       "    <tr>\n",
       "      <th>1</th>\n",
       "      <td>2457</td>\n",
       "      <td>100033</td>\n",
       "      <td>Aditya Birla Sun Life Advantage Fund - Regular...</td>\n",
       "      <td>165.01</td>\n",
       "      <td>164.18</td>\n",
       "      <td>165.01</td>\n",
       "      <td>02-Jan-2013</td>\n",
       "    </tr>\n",
       "    <tr>\n",
       "      <th>2</th>\n",
       "      <td>2458</td>\n",
       "      <td>100033</td>\n",
       "      <td>Aditya Birla Sun Life Advantage Fund - Regular...</td>\n",
       "      <td>165.35</td>\n",
       "      <td>164.52</td>\n",
       "      <td>165.35</td>\n",
       "      <td>03-Jan-2013</td>\n",
       "    </tr>\n",
       "    <tr>\n",
       "      <th>3</th>\n",
       "      <td>2459</td>\n",
       "      <td>100033</td>\n",
       "      <td>Aditya Birla Sun Life Advantage Fund - Regular...</td>\n",
       "      <td>165.43</td>\n",
       "      <td>164.60</td>\n",
       "      <td>165.43</td>\n",
       "      <td>04-Jan-2013</td>\n",
       "    </tr>\n",
       "    <tr>\n",
       "      <th>4</th>\n",
       "      <td>2460</td>\n",
       "      <td>100033</td>\n",
       "      <td>Aditya Birla Sun Life Advantage Fund - Regular...</td>\n",
       "      <td>164.85</td>\n",
       "      <td>164.03</td>\n",
       "      <td>164.85</td>\n",
       "      <td>07-Jan-2013</td>\n",
       "    </tr>\n",
       "  </tbody>\n",
       "</table>\n",
       "</div>"
      ],
      "text/plain": [
       "   Unnamed: 0  Scheme Code                                        Scheme Name  \\\n",
       "0        2456       100033  Aditya Birla Sun Life Advantage Fund - Regular...   \n",
       "1        2457       100033  Aditya Birla Sun Life Advantage Fund - Regular...   \n",
       "2        2458       100033  Aditya Birla Sun Life Advantage Fund - Regular...   \n",
       "3        2459       100033  Aditya Birla Sun Life Advantage Fund - Regular...   \n",
       "4        2460       100033  Aditya Birla Sun Life Advantage Fund - Regular...   \n",
       "\n",
       "   Net Asset Value  Repurchase Price  Sale Price         Date  \n",
       "0           163.79            162.97      163.79  01-Jan-2013  \n",
       "1           165.01            164.18      165.01  02-Jan-2013  \n",
       "2           165.35            164.52      165.35  03-Jan-2013  \n",
       "3           165.43            164.60      165.43  04-Jan-2013  \n",
       "4           164.85            164.03      164.85  07-Jan-2013  "
      ]
     },
     "execution_count": 33,
     "metadata": {},
     "output_type": "execute_result"
    }
   ],
   "source": [
    "db.head()"
   ]
  },
  {
   "cell_type": "code",
   "execution_count": null,
   "metadata": {
    "collapsed": true
   },
   "outputs": [],
   "source": []
  }
 ],
 "metadata": {
  "kernelspec": {
   "display_name": "Python 3",
   "language": "python",
   "name": "python3"
  },
  "language_info": {
   "codemirror_mode": {
    "name": "ipython",
    "version": 2
   },
   "file_extension": ".py",
   "mimetype": "text/x-python",
   "name": "python",
   "nbconvert_exporter": "python",
   "pygments_lexer": "ipython2",
   "version": "2.7.12"
  }
 },
 "nbformat": 4,
 "nbformat_minor": 2
}
