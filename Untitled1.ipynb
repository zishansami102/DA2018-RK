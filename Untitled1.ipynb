{
 "cells": [
  {
   "cell_type": "code",
   "execution_count": 1,
   "metadata": {
    "collapsed": true
   },
   "outputs": [],
   "source": [
    "import numpy as np\n",
    "import pandas as pd \n"
   ]
  },
  {
   "cell_type": "code",
   "execution_count": 4,
   "metadata": {
    "collapsed": true
   },
   "outputs": [],
   "source": [
    "import os "
   ]
  },
  {
   "cell_type": "code",
   "execution_count": 9,
   "metadata": {
    "collapsed": true
   },
   "outputs": [],
   "source": [
    "PATH=\"/Users/jarvis/DA2018-RK/\"\n",
    "DATA=\"MF_IIT_DATA_V3_EDITED.csv\"\n",
    "PATH_TO_DATA=os.path.join(PATH,DATA)\n",
    "EPHISLON=1e-14\n",
    "PATH2=\"/Users/jarvis/DA2018-RK/NAV_data/Mix/\""
   ]
  },
  {
   "cell_type": "code",
   "execution_count": 20,
   "metadata": {},
   "outputs": [],
   "source": [
    "data_main=pd.read_csv(PATH_TO_DATA)"
   ]
  },
  {
   "cell_type": "code",
   "execution_count": 21,
   "metadata": {},
   "outputs": [],
   "source": [
    "def return_nav_monthly(file_name) :\n",
    "    nav_data=pd.read_csv(PATH2+file_name+\".csv\")\n",
    "    nav_values=nav_data['Net Asset Value']\n",
    "    time_stamp=nav_data['Date']\n",
    "    names=['Jan','Feb','Mar','Apr','May','Jun','Jul','Aug','Sep','Oct','Nov','Dec']\n",
    "    years=['2013','2014','2015','2016','2017']\n",
    "    nav_montly=[]\n",
    "    value=[]\n",
    "    for year in years:\n",
    "        for name in names:\n",
    "            name_year=name+\"-\"+year\n",
    "            for i in range(len(time_stamp)):\n",
    "                if name_year in time_stamp[i]:\n",
    "                    value.append(nav_values[i])\n",
    "            nav_montly.append(np.log(value[-1]/value[0]))\n",
    "            value[:]=[]\n",
    "    return nav_montly"
   ]
  },
  {
   "cell_type": "code",
   "execution_count": 26,
   "metadata": {},
   "outputs": [
    {
     "name": "stdout",
     "output_type": "stream",
     "text": [
      "[-0.10998747448527224, -0.05531970554179818, 0.010649086083565951, 0.0021548489766212257, -0.068108772915835863, -0.082199853708917747, -0.023421792389167688, 0.1115760603518141, 0.12734400881060234, 0.13650344428969816, -0.0066986280704724177, 0.044253979440999534, 0.10037102165648717, 0.14964765416259712, 0.23680313088183241, 0.19878737466241736, 0.15059736571794363, 0.065229678166344562, 0.020396191988172715, 0.10782203319173329, 0.12494275584951083, 0.11848102839554461, 0.1359088543271478, 0.067614210370715813, 0.027179185639069535, -0.092268936996304535, -0.044125440943009617, -0.023253638005116359, 0.059875314896942783, -0.036933057312972077, -0.0089726530869239582, -0.037342178872883408, 0.0068362686968531971, 0.004356681585342706, -0.046544116732455551, -0.13912160895304743, -0.076287100212412653, 0.013795438260447823, 0.1410370678277961, 0.10751589508680623, 0.14228561016517624, 0.14526927987654076, 0.10774286420554108, 0.020195563003679473, -0.098852122128308545, -0.12802575031062399, -0.037609402573238623, 0.069553248013224989, 0.12181371110516864, 0.086769912996157744, 0.078502146535039424, 0.050139477500457955, 0.070308286661773675, 0.068255077613158577, 0.05274882446785633, 0.026381142652746242, 0.0055842926704893926, 0.065430234242571911]\n"
     ]
    }
   ],
   "source": [
    "dict_nav={}\n",
    "\n",
    "for id in ids:\n",
    "    nav_mon=return_nav_monthly(id)\n",
    "    nav_quaterly=[]\n",
    "    for i in range(len(nav_mon)-2):\n",
    "        nav_quaterly.append(nav_mon[i]+nav_mon[i+1]+nav_mon[i+2])\n",
    "    dict_nav[id]=nav_quaterly\n",
    "    nav_quaterly[:]=[]\n"
   ]
  },
  {
   "cell_type": "code",
   "execution_count": null,
   "metadata": {
    "collapsed": true
   },
   "outputs": [],
   "source": []
  }
 ],
 "metadata": {
  "kernelspec": {
   "display_name": "Python 2",
   "language": "python",
   "name": "python2"
  },
  "language_info": {
   "codemirror_mode": {
    "name": "ipython",
    "version": 2
   },
   "file_extension": ".py",
   "mimetype": "text/x-python",
   "name": "python",
   "nbconvert_exporter": "python",
   "pygments_lexer": "ipython2",
   "version": "2.7.13"
  }
 },
 "nbformat": 4,
 "nbformat_minor": 2
}
