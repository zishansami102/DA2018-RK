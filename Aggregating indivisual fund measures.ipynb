{
 "cells": [
  {
   "cell_type": "code",
   "execution_count": 130,
   "metadata": {
    "collapsed": true
   },
   "outputs": [],
   "source": [
    "import os\n",
    "import numpy as np\n",
    "import pandas as pd\n",
    "import datetime as dt\n",
    "import itertools\n",
    "import math"
   ]
  },
  {
   "cell_type": "code",
   "execution_count": 131,
   "metadata": {
    "collapsed": true
   },
   "outputs": [],
   "source": [
    "#Change the base path before executing code\n",
    "Base_path = \"/home/tennistetris/Documents/Data Analytics/Hall/Inter_hall\"\n",
    "data1 = \"extracted_AUM_Data\"\n",
    "data2 = os.path.join(\"NAV_quarterly_padded\")"
   ]
  },
  {
   "cell_type": "code",
   "execution_count": 132,
   "metadata": {},
   "outputs": [],
   "source": [
    "#Reading the AUM data\n",
    "Path_to_data = os.path.join(Base_path,data1)\n",
    "os.chdir(Path_to_data)\n",
    "db_aum = pd.read_csv('aum_padded.csv')\n",
    "db_aum.columns = ['Quarter','Data','ID']"
   ]
  },
  {
   "cell_type": "code",
   "execution_count": 133,
   "metadata": {},
   "outputs": [],
   "source": [
    "#Reading the NAV data\n",
    "Path_to_data = os.path.join(Base_path , data2)\n",
    "os.chdir(Path_to_data)\n",
    "db_nav = pd.read_csv('Combined_Database.csv')\n",
    "db_nav.drop(columns = ['Unnamed: 0'],inplace = True)\n",
    "db_nav.columns = ['Quarter','Data','ID']"
   ]
  },
  {
   "cell_type": "code",
   "execution_count": 134,
   "metadata": {},
   "outputs": [
    {
     "name": "stdout",
     "output_type": "stream",
     "text": [
      "                      Fund_Class                         Fund_Family  \\\n",
      "0   Sector - Pharma & Healthcare                Reliance Mutual Fund   \n",
      "1   Sector - Pharma & Healthcare                Reliance Mutual Fund   \n",
      "2   Sector - Pharma & Healthcare                     SBI Mutual Fund   \n",
      "3   Sector - Pharma & Healthcare                     SBI Mutual Fund   \n",
      "4   Sector - Pharma & Healthcare                   Tata Mutual Fund    \n",
      "5   Sector - Pharma & Healthcare                    UTI Mutual Fund    \n",
      "6            Sector - Technology  Aditya Birla Sun Life Mutual Fund    \n",
      "7            Sector - Technology        ICICI Prudential Mutual Fund   \n",
      "8            Sector - Technology                     SBI Mutual Fund   \n",
      "9            Sector - Technology                     SBI Mutual Fund   \n",
      "10           Sector - Technology                   Tata Mutual Fund    \n",
      "11           Sector - Technology                   Tata Mutual Fund    \n",
      "12    Sector - Banking & Finance                   Tata Mutual Fund    \n",
      "13    Sector - Banking & Finance                    UTI Mutual Fund    \n",
      "14    Sector - Banking & Finance                     SBI Mutual Fund   \n",
      "15    Sector - Banking & Finance  Aditya Birla Sun Life Mutual Fund    \n",
      "16    Sector - Banking & Finance        ICICI Prudential Mutual Fund   \n",
      "17                     Large Cap                     SBI Mutual Fund   \n",
      "18                     Large Cap                     SBI Mutual Fund   \n",
      "19                     Large Cap       ICICI Prudential Mutual Fund    \n",
      "20                     Large Cap       ICICI Prudential Mutual Fund    \n",
      "21                     Large Cap                    HDFC Mutual Fund   \n",
      "22                     Large Cap                    HDFC Mutual Fund   \n",
      "23                     Large Cap                Sundaram Mutual Fund   \n",
      "24                     Large Cap                Sundaram Mutual Fund   \n",
      "25                     Large Cap  Aditya Birla Sun Life Mutual Fund    \n",
      "26                     Large Cap  Aditya Birla Sun Life Mutual Fund    \n",
      "27                     Large Cap                   Tata Mutual Fund    \n",
      "28                     Large Cap                    UTI Mutual Fund    \n",
      "29                     Large Cap                    UTI Mutual Fund    \n",
      "..                           ...                                 ...   \n",
      "24                     Large Cap                    UTI Mutual Fund    \n",
      "25  Sector - Pharma & Healthcare                    UTI Mutual Fund    \n",
      "26                     Large Cap                    UTI Mutual Fund    \n",
      "27    Sector - Banking & Finance  Aditya Birla Sun Life Mutual Fund    \n",
      "28                     Large Cap  Aditya Birla Sun Life Mutual Fund    \n",
      "29           Sector - Technology  Aditya Birla Sun Life Mutual Fund    \n",
      "30                     Large Cap  Aditya Birla Sun Life Mutual Fund    \n",
      "31                     Large Cap                    HDFC Mutual Fund   \n",
      "32                     Large Cap                    HDFC Mutual Fund   \n",
      "33    Sector - Banking & Finance        ICICI Prudential Mutual Fund   \n",
      "34                 Sector - FMCG       ICICI Prudential Mutual Fund    \n",
      "35                     Large Cap       ICICI Prudential Mutual Fund    \n",
      "36           Sector - Technology        ICICI Prudential Mutual Fund   \n",
      "37  Sector - Pharma & Healthcare                Reliance Mutual Fund   \n",
      "38    Sector - Banking & Finance                     SBI Mutual Fund   \n",
      "39                     Large Cap                     SBI Mutual Fund   \n",
      "40                 Sector - FMCG                     SBI Mutual Fund   \n",
      "41           Sector - Technology                     SBI Mutual Fund   \n",
      "42                     Large Cap                     SBI Mutual Fund   \n",
      "43  Sector - Pharma & Healthcare                     SBI Mutual Fund   \n",
      "44                     Large Cap                Sundaram Mutual Fund   \n",
      "45                     Large Cap                Sundaram Mutual Fund   \n",
      "46    Sector - Banking & Finance                   Tata Mutual Fund    \n",
      "47           Sector - Technology                   Tata Mutual Fund    \n",
      "48  Sector - Pharma & Healthcare                   Tata Mutual Fund    \n",
      "49                     Large Cap                   Tata Mutual Fund    \n",
      "50    Sector - Banking & Finance                    UTI Mutual Fund    \n",
      "51                     Large Cap                    UTI Mutual Fund    \n",
      "52  Sector - Pharma & Healthcare                    UTI Mutual Fund    \n",
      "53                     Large Cap                    UTI Mutual Fund    \n",
      "\n",
      "          ID        Id      Type  \n",
      "0        NaN  102433.0  Dividend  \n",
      "1        NaN  118756.0  Dividend  \n",
      "2        NaN  100644.0  Dividend  \n",
      "3        NaN  119782.0  Dividend  \n",
      "4        NaN  135807.0  Dividend  \n",
      "5        NaN  100806.0  Dividend  \n",
      "6        NaN  103167.0  Dividend  \n",
      "7        NaN  115294.0  Dividend  \n",
      "8        NaN  100643.0  Dividend  \n",
      "9        NaN  119731.0  Dividend  \n",
      "10       NaN  135795.0  Dividend  \n",
      "11       NaN  135796.0  Dividend  \n",
      "12       NaN  135790.0  Dividend  \n",
      "13       NaN  102402.0  Dividend  \n",
      "14       NaN  133860.0  Dividend  \n",
      "15       NaN  125598.0  Dividend  \n",
      "16       NaN  120245.0  Dividend  \n",
      "17       NaN  103616.0  Dividend  \n",
      "18       NaN  101295.0  Dividend  \n",
      "19       NaN  108465.0  Dividend  \n",
      "20       NaN  120585.0  Dividend  \n",
      "21       NaN  130497.0  Dividend  \n",
      "22       NaN  102001.0  Dividend  \n",
      "23       NaN  115242.0  Dividend  \n",
      "24       NaN  140448.0  Dividend  \n",
      "25       NaN  132997.0  Dividend  \n",
      "26       NaN  103308.0  Dividend  \n",
      "27       NaN  119159.0  Dividend  \n",
      "28       NaN  120663.0  Dividend  \n",
      "29       NaN  120664.0  Dividend  \n",
      "..       ...       ...       ...  \n",
      "24  120662.0       NaN    Growth  \n",
      "25  120782.0       NaN    Growth  \n",
      "26  120665.0       NaN    Growth  \n",
      "27  125595.0       NaN    Growth  \n",
      "28  103174.0       NaN    Growth  \n",
      "29  103168.0       NaN    Growth  \n",
      "30  103309.0       NaN    Growth  \n",
      "31  130496.0       NaN    Growth  \n",
      "32  102000.0       NaN    Growth  \n",
      "33  109445.0       NaN    Growth  \n",
      "34  100352.0       NaN    Growth  \n",
      "35  108466.0       NaN    Growth  \n",
      "36  100363.0       NaN    Growth  \n",
      "37       0.0       NaN    Growth  \n",
      "38  133858.0       NaN    Growth  \n",
      "39  103504.0       NaN    Growth  \n",
      "40  120576.0       NaN    Growth  \n",
      "41  120577.0       NaN    Growth  \n",
      "42  104523.0       NaN    Growth  \n",
      "43  102823.0       NaN    Growth  \n",
      "44  115241.0       NaN    Growth  \n",
      "45  140452.0       NaN    Growth  \n",
      "46  135794.0       NaN    Growth  \n",
      "47  135797.0       NaN    Growth  \n",
      "48  135812.0       NaN    Growth  \n",
      "49  100475.0       NaN    Growth  \n",
      "50  102401.0       NaN    Growth  \n",
      "51  100669.0       NaN    Growth  \n",
      "52  100807.0       NaN    Growth  \n",
      "53  100664.0       NaN    Growth  \n",
      "\n",
      "[88 rows x 5 columns]\n"
     ]
    }
   ],
   "source": [
    "#Finding a database to define mapping IDs to  - Fund_Class,Fund_Family,Type\n",
    "os.chdir(Base_path)\n",
    "db_dividend = pd.read_csv('MF_IIT_DATA_V1_EDITED.csv')\n",
    "db_dividend['Type'] = 'Dividend'\n",
    "db_growth = pd.read_csv('MF_IIT_DATA_V3_EDITED.csv')\n",
    "db_growth['Type'] = 'Growth'\n",
    "temp = db_dividend[['Id','Fund_Family','Fund_Class','Type']]\n",
    "temp = [temp , db_growth[['ID','Fund_Family','Fund_Class','Type']]]\n",
    "mapping = pd.concat(temp)\n",
    "print mapping"
   ]
  },
  {
   "cell_type": "code",
   "execution_count": 135,
   "metadata": {},
   "outputs": [
    {
     "name": "stderr",
     "output_type": "stream",
     "text": [
      "/home/tennistetris/tensorflow/lib/python2.7/site-packages/ipykernel_launcher.py:4: SettingWithCopyWarning: \n",
      "A value is trying to be set on a copy of a slice from a DataFrame\n",
      "\n",
      "See the caveats in the documentation: http://pandas.pydata.org/pandas-docs/stable/indexing.html#indexing-view-versus-copy\n",
      "  after removing the cwd from sys.path.\n",
      "/home/tennistetris/tensorflow/lib/python2.7/site-packages/ipykernel_launcher.py:5: SettingWithCopyWarning: \n",
      "A value is trying to be set on a copy of a slice from a DataFrame\n",
      "\n",
      "See the caveats in the documentation: http://pandas.pydata.org/pandas-docs/stable/indexing.html#indexing-view-versus-copy\n",
      "  \"\"\"\n"
     ]
    },
    {
     "name": "stdout",
     "output_type": "stream",
     "text": [
      "                      Fund_Class                         Fund_Family  \\\n",
      "0   Sector - Pharma & Healthcare                Reliance Mutual Fund   \n",
      "1   Sector - Pharma & Healthcare                Reliance Mutual Fund   \n",
      "2   Sector - Pharma & Healthcare                     SBI Mutual Fund   \n",
      "3   Sector - Pharma & Healthcare                     SBI Mutual Fund   \n",
      "4   Sector - Pharma & Healthcare                   Tata Mutual Fund    \n",
      "5   Sector - Pharma & Healthcare                    UTI Mutual Fund    \n",
      "6            Sector - Technology  Aditya Birla Sun Life Mutual Fund    \n",
      "7            Sector - Technology        ICICI Prudential Mutual Fund   \n",
      "8            Sector - Technology                     SBI Mutual Fund   \n",
      "9            Sector - Technology                     SBI Mutual Fund   \n",
      "10           Sector - Technology                   Tata Mutual Fund    \n",
      "11           Sector - Technology                   Tata Mutual Fund    \n",
      "12    Sector - Banking & Finance                   Tata Mutual Fund    \n",
      "13    Sector - Banking & Finance                    UTI Mutual Fund    \n",
      "14    Sector - Banking & Finance                     SBI Mutual Fund   \n",
      "15    Sector - Banking & Finance  Aditya Birla Sun Life Mutual Fund    \n",
      "16    Sector - Banking & Finance        ICICI Prudential Mutual Fund   \n",
      "17                     Large Cap                     SBI Mutual Fund   \n",
      "18                     Large Cap                     SBI Mutual Fund   \n",
      "19                     Large Cap       ICICI Prudential Mutual Fund    \n",
      "20                     Large Cap       ICICI Prudential Mutual Fund    \n",
      "21                     Large Cap                    HDFC Mutual Fund   \n",
      "22                     Large Cap                    HDFC Mutual Fund   \n",
      "23                     Large Cap                Sundaram Mutual Fund   \n",
      "24                     Large Cap                Sundaram Mutual Fund   \n",
      "25                     Large Cap  Aditya Birla Sun Life Mutual Fund    \n",
      "26                     Large Cap  Aditya Birla Sun Life Mutual Fund    \n",
      "27                     Large Cap                   Tata Mutual Fund    \n",
      "28                     Large Cap                    UTI Mutual Fund    \n",
      "29                     Large Cap                    UTI Mutual Fund    \n",
      "..                           ...                                 ...   \n",
      "24                     Large Cap                    UTI Mutual Fund    \n",
      "25  Sector - Pharma & Healthcare                    UTI Mutual Fund    \n",
      "26                     Large Cap                    UTI Mutual Fund    \n",
      "27    Sector - Banking & Finance  Aditya Birla Sun Life Mutual Fund    \n",
      "28                     Large Cap  Aditya Birla Sun Life Mutual Fund    \n",
      "29           Sector - Technology  Aditya Birla Sun Life Mutual Fund    \n",
      "30                     Large Cap  Aditya Birla Sun Life Mutual Fund    \n",
      "31                     Large Cap                    HDFC Mutual Fund   \n",
      "32                     Large Cap                    HDFC Mutual Fund   \n",
      "33    Sector - Banking & Finance        ICICI Prudential Mutual Fund   \n",
      "34                 Sector - FMCG       ICICI Prudential Mutual Fund    \n",
      "35                     Large Cap       ICICI Prudential Mutual Fund    \n",
      "36           Sector - Technology        ICICI Prudential Mutual Fund   \n",
      "37  Sector - Pharma & Healthcare                Reliance Mutual Fund   \n",
      "38    Sector - Banking & Finance                     SBI Mutual Fund   \n",
      "39                     Large Cap                     SBI Mutual Fund   \n",
      "40                 Sector - FMCG                     SBI Mutual Fund   \n",
      "41           Sector - Technology                     SBI Mutual Fund   \n",
      "42                     Large Cap                     SBI Mutual Fund   \n",
      "43  Sector - Pharma & Healthcare                     SBI Mutual Fund   \n",
      "44                     Large Cap                Sundaram Mutual Fund   \n",
      "45                     Large Cap                Sundaram Mutual Fund   \n",
      "46    Sector - Banking & Finance                   Tata Mutual Fund    \n",
      "47           Sector - Technology                   Tata Mutual Fund    \n",
      "48  Sector - Pharma & Healthcare                   Tata Mutual Fund    \n",
      "49                     Large Cap                   Tata Mutual Fund    \n",
      "50    Sector - Banking & Finance                    UTI Mutual Fund    \n",
      "51                     Large Cap                    UTI Mutual Fund    \n",
      "52  Sector - Pharma & Healthcare                    UTI Mutual Fund    \n",
      "53                     Large Cap                    UTI Mutual Fund    \n",
      "\n",
      "        Type    Id_new  \n",
      "0   Dividend  102433.0  \n",
      "1   Dividend  118756.0  \n",
      "2   Dividend  100644.0  \n",
      "3   Dividend  119782.0  \n",
      "4   Dividend  135807.0  \n",
      "5   Dividend  100806.0  \n",
      "6   Dividend  103167.0  \n",
      "7   Dividend  115294.0  \n",
      "8   Dividend  100643.0  \n",
      "9   Dividend  119731.0  \n",
      "10  Dividend  135795.0  \n",
      "11  Dividend  135796.0  \n",
      "12  Dividend  135790.0  \n",
      "13  Dividend  102402.0  \n",
      "14  Dividend  133860.0  \n",
      "15  Dividend  125598.0  \n",
      "16  Dividend  120245.0  \n",
      "17  Dividend  103616.0  \n",
      "18  Dividend  101295.0  \n",
      "19  Dividend  108465.0  \n",
      "20  Dividend  120585.0  \n",
      "21  Dividend  130497.0  \n",
      "22  Dividend  102001.0  \n",
      "23  Dividend  115242.0  \n",
      "24  Dividend  140448.0  \n",
      "25  Dividend  132997.0  \n",
      "26  Dividend  103308.0  \n",
      "27  Dividend  119159.0  \n",
      "28  Dividend  120663.0  \n",
      "29  Dividend  120664.0  \n",
      "..       ...       ...  \n",
      "24    Growth  120662.0  \n",
      "25    Growth  120782.0  \n",
      "26    Growth  120665.0  \n",
      "27    Growth  125595.0  \n",
      "28    Growth  103174.0  \n",
      "29    Growth  103168.0  \n",
      "30    Growth  103309.0  \n",
      "31    Growth  130496.0  \n",
      "32    Growth  102000.0  \n",
      "33    Growth  109445.0  \n",
      "34    Growth  100352.0  \n",
      "35    Growth  108466.0  \n",
      "36    Growth  100363.0  \n",
      "37    Growth       0.0  \n",
      "38    Growth  133858.0  \n",
      "39    Growth  103504.0  \n",
      "40    Growth  120576.0  \n",
      "41    Growth  120577.0  \n",
      "42    Growth  104523.0  \n",
      "43    Growth  102823.0  \n",
      "44    Growth  115241.0  \n",
      "45    Growth  140452.0  \n",
      "46    Growth  135794.0  \n",
      "47    Growth  135797.0  \n",
      "48    Growth  135812.0  \n",
      "49    Growth  100475.0  \n",
      "50    Growth  102401.0  \n",
      "51    Growth  100669.0  \n",
      "52    Growth  100807.0  \n",
      "53    Growth  100664.0  \n",
      "\n",
      "[88 rows x 4 columns]\n"
     ]
    }
   ],
   "source": [
    "#Combining IDs and eliminating NaNs\n",
    "mapping['Id_new'] = 0 \n",
    "for i in range(mapping.shape[0]):\n",
    "        mapping['Id_new'][np.isnan(mapping['ID'])] = mapping['Id'][np.isnan(mapping['ID'])]\n",
    "        mapping['Id_new'][np.isnan(mapping['Id'])] = mapping['ID'][np.isnan(mapping['Id'])]\n",
    "mapping.drop(labels = ['Id','ID'],axis = 1,inplace = True)\n",
    "print mapping"
   ]
  },
  {
   "cell_type": "code",
   "execution_count": 136,
   "metadata": {
    "collapsed": true
   },
   "outputs": [],
   "source": [
    "#Function for finding the quarters over which we have to loop\n",
    "List1 = ['01' , '04' , '07' , '10']\n",
    "List2 = ['2013' , '2014' , '2015' , '2016' , '2017']\n",
    "Quarters = list(itertools.product(List1,List2))\n",
    "\n",
    "List3 = list()\n",
    "\n",
    "for i in range(len(Quarters)):\n",
    "    temp = Quarters[i]\n",
    "    temp = temp[1]+'-'+temp[0]\n",
    "    temp = pd.Period(temp,'Q')\n",
    "    List3.append(temp)\n",
    "    \n",
    "Quarters = pd.Series(List3).sort_values().reset_index(drop = True)"
   ]
  },
  {
   "cell_type": "code",
   "execution_count": 137,
   "metadata": {
    "collapsed": true
   },
   "outputs": [],
   "source": [
    "Write_dir = 'Aggregate_NAV_returns_data_quarterly'\n",
    "Write_path = os.path.join(Base_path,Write_dir)"
   ]
  },
  {
   "cell_type": "markdown",
   "metadata": {},
   "source": [
    "### Aggregating the NAV_returns"
   ]
  },
  {
   "cell_type": "code",
   "execution_count": 142,
   "metadata": {},
   "outputs": [],
   "source": [
    "# Aggregating the NAV_Returns\n",
    "Type = mapping['Type'].unique()\n",
    "Fund_Class = mapping['Fund_Class'].unique()\n",
    "Fund_Family = mapping['Fund_Family'].unique()\n",
    "for Tp in Type:\n",
    "    for Class in Fund_Class:\n",
    "        final_db = pd.DataFrame()\n",
    "        if not (Class+'.csv') in os.listdir(Write_path):\n",
    "            for Fund_House in Fund_Family:\n",
    "                cond1 = np.array(mapping['Type'] == Tp)\n",
    "                cond2 = np.array(mapping['Fund_Class'] == Class)\n",
    "                cond3 = np.array(mapping['Fund_Family']== Fund_House)\n",
    "                cond = np.all([cond1,cond2,cond3],axis = 0)\n",
    "                mapping_subset = mapping[cond]\n",
    "                IDs = list(mapping_subset['Id_new'].astype(int))\n",
    "                if len(IDs):\n",
    "                    print ('IDs :',IDs)\n",
    "                    db_aum_subset = db_aum[db_aum['ID'].isin(IDs)]\n",
    "                    db_nav_subset = db_nav[db_nav['ID'].isin(IDs)]\n",
    "                    #print ('aum table :',db_aum_subset.head)\n",
    "                    #print ('nav table :',db_nav_subset.head)\n",
    "                    for Quarter in Quarters:\n",
    "                        #print type(Quarter)\n",
    "                        Index1 = np.zeros(db_aum_subset.shape[0],dtype = 'bool') # This logical array is used to index the aum data\n",
    "                        Index2 = np.zeros(db_nav_subset.shape[0],dtype = 'bool') # This logical array is used to index the nav data\n",
    "                        db_aum_subset_quarter = db_aum_subset['Quarter']\n",
    "                        db_nav_subset_quarter = db_nav_subset['Quarter']\n",
    "                        for i in range(len(Index1)):\n",
    "                            if db_aum_subset_quarter.iloc[i] == Quarter:\n",
    "                                Index1[i] = 1\n",
    "                        for i in range(len(Index2)):\n",
    "                            if db_nav_subset_quarter.iloc[i] == Quarter:\n",
    "                                Index2[i] = 1\n",
    "                        db_aum_subset['Data'][Index1]\n",
    "                        db_nav_subset['Data'][Index2]\n",
    "                        #print ('aum table :',db_aum_subset.head)\n",
    "                        #print ('nav table :',db_nav_subset.head)\n",
    "                        #Now to divide the datasets by ID\n",
    "                        grouped_aum = db_aum_subset.groupby('ID')\n",
    "                        key_grouped_aum = grouped_aum.groups.keys()\n",
    "                        grouped_nav = db_nav_subset.groupby('ID')\n",
    "                        key_grouped_nav = grouped_nav.groups.keys()\n",
    "                        if len(set(key_grouped_aum) & set(key_grouped_nav)) == len(key_grouped_aum):\n",
    "                            for key_aum,group_aum in grouped_aum:\n",
    "                                #print ('Key_aum: ',key_aum)\n",
    "                                #print (group_aum)\n",
    "                                num = 0\n",
    "                                denum = 0\n",
    "                                for key_nav,group_nav in grouped_nav:\n",
    "                                    if key_nav == key_aum:\n",
    "                                        #print ('Key_nav : ',key_nav)\n",
    "                                        data1 = np.array(group_nav['Data'])\n",
    "                                        #print ('data 1 : ',data1)\n",
    "                                        data2 = np.array(group_aum['Data'])\n",
    "                                        #print ('data 2 :',data2)\n",
    "                                        num = num + (data1*data2)\n",
    "                                        denum = denum + (data2)\n",
    "                            mean = num/denum\n",
    "                            #print ('mean : ',mean)\n",
    "                        os.chdir(Write_path)\n",
    "                        final_db[Fund_House] = mean\n",
    "                final_db.to_csv(Class+'.csv')                "
   ]
  },
  {
   "cell_type": "code",
   "execution_count": null,
   "metadata": {
    "collapsed": true
   },
   "outputs": [],
   "source": [
    "#Loading ths Sharpe Ratio Data"
   ]
  },
  {
   "cell_type": "markdown",
   "metadata": {},
   "source": [
    "### Aggregating the Sharpe Ratio"
   ]
  },
  {
   "cell_type": "code",
   "execution_count": 71,
   "metadata": {},
   "outputs": [
    {
     "name": "stdout",
     "output_type": "stream",
     "text": [
      "  Quarter   Data      ID\n",
      "0  2013Q1   6.08  119433\n",
      "1  2013Q2  14.32  119433\n",
      "2  2013Q3  21.13  119433\n",
      "3  2013Q4  29.63  119433\n",
      "4  2014Q1  40.53  119433\n",
      "Index([u'Quarter', u'Data', u'ID'], dtype='object')\n"
     ]
    }
   ],
   "source": [
    "# Aggregating the Sharpe Returns\n",
    "Type = mapping['Type'].unique()\n",
    "Fund_Class = mapping['Fund_Class'].unique()\n",
    "Fund_Family = mapping['Fund_Family'].unique()\n",
    "for Tp in Type:\n",
    "    for Class in Fund_Class:\n",
    "        final_db = pd.DataFrame()\n",
    "        if not (Class+'.csv') in os.listdir(Write_path):\n",
    "            for Fund_House in Fund_Family:\n",
    "                cond1 = np.array(mapping['Type'] == Tp)\n",
    "                cond2 = np.array(mapping['Fund_Class'] == Class)\n",
    "                cond3 = np.array(mapping['Fund_Family']== Fund_House)\n",
    "                cond = np.all([cond1,cond2,cond3],axis = 0)\n",
    "                mapping_subset = mapping[cond]\n",
    "                IDs = list(mapping_subset['Id_new'].astype(int))\n",
    "                if len(IDs):\n",
    "                    print ('IDs :',IDs)\n",
    "                    db_aum_subset = db_aum[db_aum['ID'].isin(IDs)]\n",
    "                    db_nav_subset = db_nav[db_nav['ID'].isin(IDs)]\n",
    "                    #print ('aum table :',db_aum_subset.head)\n",
    "                    #print ('nav table :',db_nav_subset.head)\n",
    "                    for Quarter in Quarters:\n",
    "                        #print type(Quarter)\n",
    "                        Index1 = np.zeros(db_aum_subset.shape[0],dtype = 'bool') # This logical array is used to index the aum data\n",
    "                        Index2 = np.zeros(db_nav_subset.shape[0],dtype = 'bool') # This logical array is used to index the nav data\n",
    "                        db_aum_subset_quarter = db_aum_subset['Quarter']\n",
    "                        db_nav_subset_quarter = db_nav_subset['Quarter']\n",
    "                        for i in range(len(Index1)):\n",
    "                            if db_aum_subset_quarter.iloc[i] == Quarter:\n",
    "                                Index1[i] = 1\n",
    "                        for i in range(len(Index2)):\n",
    "                            if db_nav_subset_quarter.iloc[i] == Quarter:\n",
    "                                Index2[i] = 1\n",
    "                        db_aum_subset['Data'][Index1]\n",
    "                        db_nav_subset['Data'][Index2]\n",
    "                        #print ('aum table :',db_aum_subset.head)\n",
    "                        #print ('nav table :',db_nav_subset.head)\n",
    "                        #Now to divide the datasets by ID\n",
    "                        grouped_aum = db_aum_subset.groupby('ID')\n",
    "                        key_grouped_aum = grouped_aum.groups.keys()\n",
    "                        grouped_nav = db_nav_subset.groupby('ID')\n",
    "                        key_grouped_nav = grouped_nav.groups.keys()\n",
    "                        if len(set(key_grouped_aum) & set(key_grouped_nav)) == len(key_grouped_aum):\n",
    "                            for key_aum,group_aum in grouped_aum:\n",
    "                                #print ('Key_aum: ',key_aum)\n",
    "                                #print (group_aum)\n",
    "                                num = 0\n",
    "                                denum = 0\n",
    "                                for key_nav,group_nav in grouped_nav:\n",
    "                                    if key_nav == key_aum:\n",
    "                                        #print ('Key_nav : ',key_nav)\n",
    "                                        data1 = np.array(group_nav['Data'])\n",
    "                                        #print ('data 1 : ',data1)\n",
    "                                        data2 = np.array(group_aum['Data'])\n",
    "                                        #print ('data 2 :',data2)\n",
    "                                        num = num + (data1*data2)\n",
    "                                        denum = denum + (data2)\n",
    "                            mean = num/denum\n",
    "                            #print ('mean : ',mean)\n",
    "                        os.chdir(Write_path)\n",
    "                        final_db[Fund_House] = mean\n",
    "                final_db.to_csv(Class+'.csv')   "
   ]
  },
  {
   "cell_type": "code",
   "execution_count": 70,
   "metadata": {},
   "outputs": [
    {
     "name": "stdout",
     "output_type": "stream",
     "text": [
      "  Quarter  Data      ID\n",
      "0  2013Q1   0.0  135793\n",
      "1  2013Q2   0.0  135793\n",
      "2  2013Q3   0.0  135793\n",
      "3  2013Q4   0.0  135793\n",
      "4  2014Q1   0.0  135793\n",
      "Index([u'Quarter', u'Data', u'ID'], dtype='object')\n"
     ]
    }
   ],
   "source": [
    "print (db_nav.head())\n",
    "print db_nav.columns"
   ]
  },
  {
   "cell_type": "code",
   "execution_count": 83,
   "metadata": {},
   "outputs": [
    {
     "name": "stdout",
     "output_type": "stream",
     "text": [
      "[100352, 120587]\n"
     ]
    }
   ],
   "source": [
    "print key_grouped_aum"
   ]
  },
  {
   "cell_type": "code",
   "execution_count": 91,
   "metadata": {},
   "outputs": [
    {
     "data": {
      "text/plain": [
       "2"
      ]
     },
     "execution_count": 91,
     "metadata": {},
     "output_type": "execute_result"
    }
   ],
   "source": [
    "len(set(key_grouped_aum) & set(key_grouped_nav))"
   ]
  },
  {
   "cell_type": "code",
   "execution_count": 125,
   "metadata": {},
   "outputs": [
    {
     "name": "stdout",
     "output_type": "stream",
     "text": [
      "Sector - Pharma & Healthcare.csv\n"
     ]
    }
   ],
   "source": [
    "print str(Fund_Class[0])+'.csv'"
   ]
  },
  {
   "cell_type": "code",
   "execution_count": null,
   "metadata": {
    "collapsed": true
   },
   "outputs": [],
   "source": []
  }
 ],
 "metadata": {
  "kernelspec": {
   "display_name": "Python 3",
   "language": "python",
   "name": "python3"
  },
  "language_info": {
   "codemirror_mode": {
    "name": "ipython",
    "version": 2
   },
   "file_extension": ".py",
   "mimetype": "text/x-python",
   "name": "python",
   "nbconvert_exporter": "python",
   "pygments_lexer": "ipython2",
   "version": "2.7.12"
  }
 },
 "nbformat": 4,
 "nbformat_minor": 2
}
