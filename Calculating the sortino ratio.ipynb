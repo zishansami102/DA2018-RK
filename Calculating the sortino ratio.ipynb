{
 "cells": [
  {
   "cell_type": "code",
   "execution_count": 1,
   "metadata": {
    "collapsed": true
   },
   "outputs": [],
   "source": [
    "import os\n",
    "import numpy as np\n",
    "import pandas as pd\n",
    "import datetime as dt\n",
    "import itertools"
   ]
  },
  {
   "cell_type": "code",
   "execution_count": 2,
   "metadata": {
    "collapsed": true
   },
   "outputs": [],
   "source": [
    "#Change the base path before executing code\n",
    "Base_path = \"/home/tennistetris/Documents/Data Analytics/Hall/Inter_hall\"\n",
    "data1 = \"NAV_data\"\n",
    "data2 = \"Mix\"\n",
    "Path_to_data = os.path.join(Base_path,data1,data2)\n",
    "files = os.listdir(Path_to_data)\n",
    "os.chdir(Path_to_data)"
   ]
  },
  {
   "cell_type": "code",
   "execution_count": 3,
   "metadata": {
    "collapsed": true
   },
   "outputs": [],
   "source": [
    "def Continuous_dates(Values):\n",
    "    '''\n",
    "    This function takes an intermittent pandas series indexed by date \n",
    "    and converts it to a continuous pandas series where missing values\n",
    "    are replaced by the Naive Method (prev. value)    \n",
    "    '''\n",
    "    Index  = Values.index\n",
    "    Start_date = Index[0]\n",
    "    End_date = Index[len(Index)-1]\n",
    "    Num_dates = (End_date - Start_date).days\n",
    "    Cont_dates = pd.date_range(Start_date ,End_date)\n",
    "    ts = pd.Series(np.zeros(len(Cont_dates)),index = Cont_dates)\n",
    "    i = 0;j = 0\n",
    "    while(j<len(Index)):\n",
    "        #print (i,' : ',Cont_dates[i]);print(j,' : ',Index[j])\n",
    "        if((Cont_dates[i] - Index[j]).days == 0):\n",
    "            ts[i] = Values.iloc[j] \n",
    "            i = i+1;j=j+1\n",
    "        elif((Cont_dates[i] - Index[j]).days < 0):\n",
    "            ts[i] = Values.iloc[j-1]\n",
    "            i = i+1\n",
    "    return ts"
   ]
  },
  {
   "cell_type": "code",
   "execution_count": 4,
   "metadata": {},
   "outputs": [
    {
     "name": "stdout",
     "output_type": "stream",
     "text": [
      "/home/tennistetris/Documents/Data Analytics/Hall/Inter_hall/Sharpe_quarterly\n"
     ]
    }
   ],
   "source": [
    "#Defining Write path\n",
    "\n",
    "Base_path = \"/home/tennistetris/Documents/Data Analytics/Hall/Inter_hall\"\n",
    "if not 'Sharpe_quarterly' in os.listdir(Base_path):\n",
    "    os.mkdir('Sharpe_quarterly')\n",
    "Write_path = os.path.join(Base_path,'Sharpe_quarterly') \n",
    "print Write_path"
   ]
  },
  {
   "cell_type": "code",
   "execution_count": 5,
   "metadata": {
    "collapsed": true
   },
   "outputs": [],
   "source": [
    "risk_free  = np.log(1 + 0.06)\n",
    "\n",
    "#Using itertools to initialize the list of quarters\n",
    "List1 = ['01' , '04' , '07' , '10']\n",
    "List2 = ['2013' , '2014' , '2015' , '2016' , '2017']\n",
    "Quarters = list(itertools.product(List1,List2))\n",
    "\n",
    "List3 = list()\n",
    "\n",
    "for i in range(len(Quarters)):\n",
    "    temp = Quarters[i]\n",
    "    temp = temp[1]+'-'+temp[0]\n",
    "    temp = pd.Period(temp,'Q')\n",
    "    List3.append(temp)\n",
    "    \n",
    "Quarters = pd.Series(List3).sort_values().reset_index(drop = True) #List of all quarters\n"
   ]
  },
  {
   "cell_type": "code",
   "execution_count": null,
   "metadata": {
    "collapsed": true
   },
   "outputs": [],
   "source": []
  }
 ],
 "metadata": {
  "kernelspec": {
   "display_name": "Python 3",
   "language": "python",
   "name": "python3"
  },
  "language_info": {
   "codemirror_mode": {
    "name": "ipython",
    "version": 2
   },
   "file_extension": ".py",
   "mimetype": "text/x-python",
   "name": "python",
   "nbconvert_exporter": "python",
   "pygments_lexer": "ipython2",
   "version": "2.7.12"
  }
 },
 "nbformat": 4,
 "nbformat_minor": 2
}
