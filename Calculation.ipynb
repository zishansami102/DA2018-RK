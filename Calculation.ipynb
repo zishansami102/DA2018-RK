{
 "cells": [
  {
   "cell_type": "code",
   "execution_count": 118,
   "metadata": {
    "collapsed": true
   },
   "outputs": [],
   "source": [
    "import numpy as np\n",
    "import pandas as pd \n",
    "import os"
   ]
  },
  {
   "cell_type": "code",
   "execution_count": 119,
   "metadata": {
    "collapsed": true
   },
   "outputs": [],
   "source": [
    "PATH=\"/Users/jarvis/DA2018-RK-master/\"\n",
    "DATA=\"MF_IIT_DATA_V3_EDITED.csv\"\n",
    "PATH_TO_DATA=os.path.join(PATH,DATA)\n",
    "PATH_COM=\"/Users/jarvis/Downloads/cd.csv\"\n",
    "EPHISLON=1e-14"
   ]
  },
  {
   "cell_type": "code",
   "execution_count": 120,
   "metadata": {
    "collapsed": true
   },
   "outputs": [],
   "source": [
    "file_name=''"
   ]
  },
  {
   "cell_type": "code",
   "execution_count": 121,
   "metadata": {
    "collapsed": true
   },
   "outputs": [],
   "source": [
    "# beta\n",
    "# alpha\n",
    "# sortino\n",
    "# sharp"
   ]
  },
  {
   "cell_type": "code",
   "execution_count": 122,
   "metadata": {},
   "outputs": [],
   "source": [
    "data_com=pd.read_csv(PATH_COM)\n",
    "nitfy_50_return_m=data_com['Nifty 50 Historical Data']\n",
    "nitfy_50_return_m=nitfy_50_return_m.drop([0])"
   ]
  },
  {
   "cell_type": "code",
   "execution_count": 123,
   "metadata": {
    "scrolled": true
   },
   "outputs": [],
   "source": [
    "return_m_n50=[]\n",
    "for i in nitfy_50_return_m:\n",
    "    i=i[:-1]\n",
    "    i=float(i)\n",
    "    return_m_n50.append(i)"
   ]
  },
  {
   "cell_type": "code",
   "execution_count": 124,
   "metadata": {},
   "outputs": [
    {
     "name": "stdout",
     "output_type": "stream",
     "text": [
      "['7.873', '7.960', '7.731', '7.449', '7.449', '8.170', '8.602', '8.761', '8.630', '9.060', '8.825', '8.788', '8.861', '8.810', '8.830', '8.646', '8.747', '8.722', '8.565', '8.516', '8.277', '8.087', '7.857', '7.693', '7.728', '7.736', '7.860', '7.816', '7.860', '7.808', '7.787', '7.541', '7.641', '7.786', '7.758', '7.783', '7.626', '7.463', '7.437', '7.471', '7.450', '7.164', '7.110', '6.962', '6.886', '6.246', '6.516', '6.409', '6.871', '6.694', '6.964', '6.664', '6.511', '6.466', '6.526', '6.667', '6.862', '7.062', '7.318']\n",
      "[23.564, 23.067999999999998, 25.993000000000002, 26.673, 26.500999999999998, 26.115000000000002, 25.357999999999997, 23.637, 23.323999999999998, 23.484, 22.969, 23.327, 22.526, 22.085, 20.958, 19.171, 20.529000000000003, 19.641000000000002, 20.055]\n"
     ]
    }
   ],
   "source": [
    "PATH3=\"/Users/jarvis/Downloads/India 10-Year Bond Yield Historical Data.csv\"\n",
    "data_rf=pd.read_csv(PATH3)\n",
    "date=data_rf['Date']\n",
    "price=data_rf['Price']\n",
    "return_f_montly=[]\n",
    "return_f=[]\n",
    "for i in range(58,-1,-1):\n",
    "    return_f_montly.append(price[i])\n",
    "print(return_f_montly)\n",
    "for i in range(0,len(return_f_montly)-4,3):\n",
    "    return_f.append(float(return_f_montly[i])+float(return_f_montly[i+1])+float(return_f_montly[i+2]))\n",
    "print(return_f)"
   ]
  },
  {
   "cell_type": "code",
   "execution_count": 135,
   "metadata": {},
   "outputs": [
    {
     "name": "stdout",
     "output_type": "stream",
     "text": [
      "(20,)\n",
      "(20,)\n",
      "(20,)\n",
      "(20,)\n",
      "(20,)\n",
      "(20,)\n",
      "(20,)\n",
      "(20,)\n",
      "(20,)\n",
      "(20,)\n",
      "(20,)\n",
      "(20,)\n",
      "(20,)\n",
      "(15,)\n",
      "(20,)\n",
      "(20,)\n",
      "(20,)\n",
      "(20,)\n",
      "(20,)\n",
      "(20,)\n",
      "(20,)\n",
      "(9,)\n",
      "(17,)\n",
      "(9,)\n",
      "(17,)\n",
      "(9,)\n",
      "(20,)\n",
      "(20,)\n",
      "(20,)\n",
      "(13,)\n",
      "(12,)\n",
      "(12,)\n",
      "(9,)\n",
      "(20,)\n",
      "(9,)\n",
      "(20,)\n",
      "(9,)\n",
      "(12,)\n",
      "(20,)\n",
      "(9,)\n",
      "(4,)\n",
      "(20,)\n",
      "(9,)\n",
      "(9,)\n",
      "(20,)\n",
      "(20,)\n",
      "(20,)\n",
      "(20,)\n",
      "(20,)\n",
      "(4,)\n",
      "(9,)\n",
      "(20,)\n",
      "(20,)\n",
      "(20,)\n",
      "(4,)\n",
      "(20,)\n",
      "(20,)\n",
      "(20,)\n",
      "(20,)\n",
      "(20,)\n",
      "(20,)\n",
      "(20,)\n",
      "(20,)\n",
      "(17,)\n",
      "(20,)\n",
      "(20,)\n",
      "(20,)\n",
      "(20,)\n",
      "(20,)\n",
      "(15,)\n",
      "(20,)\n",
      "(20,)\n",
      "(20,)\n",
      "(20,)\n",
      "(15,)\n",
      "(20,)\n",
      "(20,)\n",
      "(20,)\n",
      "(20,)\n",
      "(20,)\n",
      "(20,)\n",
      "(20,)\n",
      "(20,)\n",
      "(20,)\n",
      "(20,)\n"
     ]
    }
   ],
   "source": [
    "import glob\n",
    "os.chdir(PATH+\"NAV_quarterly/\")\n",
    "for file_name in glob.glob(\"*.csv\"):\n",
    "    data=pd.read_csv(file_name,names=['Time','NAV'])\n",
    "    \n"
   ]
  },
  {
   "cell_type": "code",
   "execution_count": 107,
   "metadata": {},
   "outputs": [
    {
     "data": {
      "text/plain": [
       "array([ 0.75828185,  0.83397302,  0.15476989,  0.46306101,  0.42456403,\n",
       "        0.57666591,  0.58504957,  0.9024871 ,  0.24528725,  0.22162394,\n",
       "        0.26205133,  0.56866917,  0.20364204,  0.13583101,  0.118994  ,\n",
       "        0.16875552,  0.57367597,  0.33456871,  0.92784897,  0.89132834])"
      ]
     },
     "execution_count": 107,
     "metadata": {},
     "output_type": "execute_result"
    }
   ],
   "source": [
    "nav_quarterly=np.random.rand(20)\n",
    "nav_quarterly"
   ]
  },
  {
   "cell_type": "code",
   "execution_count": 108,
   "metadata": {},
   "outputs": [],
   "source": [
    "def value(nav_quarterly,market_index):\n",
    "    return_p=[]\n",
    "    return_m=[]\n",
    "    for i in range(len(nav_quarterly)-1):\n",
    "        return_p.append((nav_quarterly[i+1]-nav_quarterly[i])/nav_quarterly[i])\n",
    "    return_p_bar=np.sum(return_p)/(len(return_p))\n",
    "    for i in range(len(market_index)-1):\n",
    "        return_m.append((market_index[i+1]-market_index[i])/market_index[i])\n",
    "    print(return_p)\n",
    "    return_m_bar=np.sum(return_m)/len(return_m)\n",
    "    return_p=np.asarray(return_p)\n",
    "    return_m=np.asarray(return_m)\n",
    "    return return_p,return_m,return_p_bar,return_m_bar"
   ]
  },
  {
   "cell_type": "code",
   "execution_count": 109,
   "metadata": {},
   "outputs": [],
   "source": [
    "def cal_sigma(return_p,return_m,return_p_bar,return_m_bar):\n",
    "    return_p_mean=[]\n",
    "    return_m_mean=[]\n",
    "    return_p_mean[:]=[x-return_p_bar for x in return_p]\n",
    "    return_m_mean[:]=[x-return_m_bar for x in return_m]\n",
    "    sigma_p=np.sqrt(np.sum(np.square(return_p_mean))/(len(return_p_mean)-1))\n",
    "    sigma_m=np.sqrt(np.sum(np.square(return_m_mean))/(len(return_m_mean)-1))\n",
    "    return sigma_p,sigma_m"
   ]
  },
  {
   "cell_type": "code",
   "execution_count": 110,
   "metadata": {},
   "outputs": [
    {
     "name": "stdout",
     "output_type": "stream",
     "text": [
      "[0.099819310587006133, -0.81441858400937983, 1.9919321192074018, -0.083135882861633661, 0.35825427502968243, 0.014538168004282375, 0.54258227457813302, -0.72820968838930344, -0.096471820552883544, 0.18241434946459398, 1.1700678644380942, -0.64189717580852468, -0.33299127717569132, -0.12395556995535581, 0.41818508212466654, 2.3994501179008574, -0.41679845529330967, 1.7732687761235584, -0.039360529506978326]\n",
      "19\n",
      "19\n"
     ]
    },
    {
     "data": {
      "text/plain": [
       "-0.016109401255635071"
      ]
     },
     "execution_count": 110,
     "metadata": {},
     "output_type": "execute_result"
    }
   ],
   "source": [
    "def cal_beta(nav_quarterly,market_index):\n",
    "    return_p,return_m,return_m_bar,return_m_bar=value(nav_quarterly,market_index)\n",
    "    sigma_p,sigma_m=cal_sigma(return_p,return_m,return_p_bar,return_m_bar)\n",
    "    print(len(return_p))\n",
    "    print(len(return_m))\n",
    "    X = np.vstack((return_p,return_m))\n",
    "    covariance=np.cov(X)[0][1]\n",
    "    beta=covariance/(sigma_m*sigma_m)\n",
    "    return beta\n",
    "cal_beta(nav_quarterly,return_m_n50)"
   ]
  },
  {
   "cell_type": "code",
   "execution_count": 111,
   "metadata": {},
   "outputs": [
    {
     "name": "stdout",
     "output_type": "stream",
     "text": [
      "[0.099819310587006133, -0.81441858400937983, 1.9919321192074018, -0.083135882861633661, 0.35825427502968243, 0.014538168004282375, 0.54258227457813302, -0.72820968838930344, -0.096471820552883544, 0.18241434946459398, 1.1700678644380942, -0.64189717580852468, -0.33299127717569132, -0.12395556995535581, 0.41818508212466654, 2.3994501179008574, -0.41679845529330967, 1.7732687761235584, -0.039360529506978326]\n",
      "[23.564, 23.067999999999998, 25.993000000000002, 26.673, 26.500999999999998, 26.115000000000002, 25.357999999999997, 23.637, 23.323999999999998, 23.484, 22.969, 23.327, 22.526, 22.085, 20.958, 19.171, 20.529000000000003, 19.641000000000002, 20.055]\n",
      "[-20.29214315 -20.65384098 -20.75645051 -23.13907085 -22.60860269\n",
      " -22.572035   -21.46071135 -21.07136531 -20.25434313 -20.15152875\n",
      " -18.85201351 -20.72862884 -19.7687671  -19.20660737 -17.76311179\n",
      " -14.50426484 -18.11421188 -15.4522574  -17.37787676]\n"
     ]
    }
   ],
   "source": [
    "def cal_sharpe(nav_quarterly,market_index,return_f):\n",
    "    return_p,return_m,return_m_bar,return_m_bar=value(nav_quarterly,market_index)\n",
    "    sigma_p,sigma_m=cal_sigma(return_p,return_m,return_p_bar,return_m_bar)\n",
    "    print(return_f)\n",
    "    sharpe=(return_p-return_f)/sigma_p\n",
    "    return sharpe\n",
    "print(cal_sharpe(nav_quarterly,return_m_n50,return_f))\n",
    "    "
   ]
  },
  {
   "cell_type": "code",
   "execution_count": 114,
   "metadata": {},
   "outputs": [
    {
     "name": "stdout",
     "output_type": "stream",
     "text": [
      "[0.099819310587006133, -0.81441858400937983, 1.9919321192074018, -0.083135882861633661, 0.35825427502968243, 0.014538168004282375, 0.54258227457813302, -0.72820968838930344, -0.096471820552883544, 0.18241434946459398, 1.1700678644380942, -0.64189717580852468, -0.33299127717569132, -0.12395556995535581, 0.41818508212466654, 2.3994501179008574, -0.41679845529330967, 1.7732687761235584, -0.039360529506978326]\n",
      "[0.099819310587006133, -0.81441858400937983, 1.9919321192074018, -0.083135882861633661, 0.35825427502968243, 0.014538168004282375, 0.54258227457813302, -0.72820968838930344, -0.096471820552883544, 0.18241434946459398, 1.1700678644380942, -0.64189717580852468, -0.33299127717569132, -0.12395556995535581, 0.41818508212466654, 2.3994501179008574, -0.41679845529330967, 1.7732687761235584, -0.039360529506978326]\n",
      "19\n",
      "19\n"
     ]
    },
    {
     "data": {
      "text/plain": [
       "array([-23.87359178, -24.27574292, -24.5795206 , -27.1915819 ,\n",
       "       -26.55133013, -26.53163183, -25.22496682, -24.75174586,\n",
       "       -23.81914472, -23.63517846, -22.18561387, -24.59727659,\n",
       "       -23.28859179, -22.57184331, -20.91278138, -17.13547778,\n",
       "       -21.28724218, -18.18831249, -20.39169455])"
      ]
     },
     "execution_count": 114,
     "metadata": {},
     "output_type": "execute_result"
    }
   ],
   "source": [
    "def cal_alpha(nav_quarterly,market_index,return_f):\n",
    "    return_p,return_m,return_m_bar,return_m_bar=value(nav_quarterly,market_index)\n",
    "    beta=cal_beta(nav_quarterly,market_index)\n",
    "    alpha=(return_p-return_f)-beta*(return_m-return_f)\n",
    "    return alpha\n",
    "cal_alpha(nav_quarterly,return_m_n50,return_f)"
   ]
  },
  {
   "cell_type": "code",
   "execution_count": 115,
   "metadata": {},
   "outputs": [
    {
     "name": "stdout",
     "output_type": "stream",
     "text": [
      "[0.099819310587006133, -0.81441858400937983, 1.9919321192074018, -0.083135882861633661, 0.35825427502968243, 0.014538168004282375, 0.54258227457813302, -0.72820968838930344, -0.096471820552883544, 0.18241434946459398, 1.1700678644380942, -0.64189717580852468, -0.33299127717569132, -0.12395556995535581, 0.41818508212466654, 2.3994501179008574, -0.41679845529330967, 1.7732687761235584, -0.039360529506978326]\n",
      "[23.564, 23.067999999999998, 25.993000000000002, 26.673, 26.500999999999998, 26.115000000000002, 25.357999999999997, 23.637, 23.323999999999998, 23.484, 22.969, 23.327, 22.526, 22.085, 20.958, 19.171, 20.529000000000003, 19.641000000000002, 20.055]\n",
      "[0.099819310587006133, -0.81441858400937983, 1.9919321192074018, -0.083135882861633661, 0.35825427502968243, 0.014538168004282375, 0.54258227457813302, -0.72820968838930344, -0.096471820552883544, 0.18241434946459398, 1.1700678644380942, -0.64189717580852468, -0.33299127717569132, -0.12395556995535581, 0.41818508212466654, 2.3994501179008574, -0.41679845529330967, 1.7732687761235584, -0.039360529506978326]\n",
      "19\n",
      "19\n",
      "[0.099819310587006133, -0.81441858400937983, 1.9919321192074018, -0.083135882861633661, 0.35825427502968243, 0.014538168004282375, 0.54258227457813302, -0.72820968838930344, -0.096471820552883544, 0.18241434946459398, 1.1700678644380942, -0.64189717580852468, -0.33299127717569132, -0.12395556995535581, 0.41818508212466654, 2.3994501179008574, -0.41679845529330967, 1.7732687761235584, -0.039360529506978326]\n",
      "[0.099819310587006133, -0.81441858400937983, 1.9919321192074018, -0.083135882861633661, 0.35825427502968243, 0.014538168004282375, 0.54258227457813302, -0.72820968838930344, -0.096471820552883544, 0.18241434946459398, 1.1700678644380942, -0.64189717580852468, -0.33299127717569132, -0.12395556995535581, 0.41818508212466654, 2.3994501179008574, -0.41679845529330967, 1.7732687761235584, -0.039360529506978326]\n",
      "19\n",
      "19\n",
      "(array([-20.29214315, -20.65384098, -20.75645051, -23.13907085,\n",
      "       -22.60860269, -22.572035  , -21.46071135, -21.07136531,\n",
      "       -20.25434313, -20.15152875, -18.85201351, -20.72862884,\n",
      "       -19.7687671 , -19.20660737, -17.76311179, -14.50426484,\n",
      "       -18.11421188, -15.4522574 , -17.37787676]), -0.016109401255635071, array([-23.87359178, -24.27574292, -24.5795206 , -27.1915819 ,\n",
      "       -26.55133013, -26.53163183, -25.22496682, -24.75174586,\n",
      "       -23.81914472, -23.63517846, -22.18561387, -24.59727659,\n",
      "       -23.28859179, -22.57184331, -20.91278138, -17.13547778,\n",
      "       -21.28724218, -18.18831249, -20.39169455]))\n"
     ]
    }
   ],
   "source": [
    "print(cal_sharpe(nav_quarterly,return_m_n50,return_f),cal_beta(nav_quarterly,return_m_n50),cal_alpha(nav_quarterly,return_m_n50,return_f))"
   ]
  },
  {
   "cell_type": "code",
   "execution_count": 31,
   "metadata": {
    "collapsed": true
   },
   "outputs": [],
   "source": [
    "def create_csv(nav_quarterly,market_index,return_f):\n",
    "    \n",
    "    f=open(\"Final.csv\",'w+')\n",
    "    f.write(\"Id,Beta,Alpha,Mean_sharpe\\n\")\n",
    "    for id in ids:\n",
    "        sharpe=cal_shape(nav_quarterly,market_index,return_f)\n",
    "        mean_sharpe=np.sum(sharpe)/len(sharpe)\n",
    "        beta=cal_beta(nav_quarterly,market_index)\n",
    "        alpha=cal_alpha(nav_quarterly,market_index,return_f)\n",
    "        f.write(str(id)+','+str(Beta)+\",\"+str(alpha)+\",\"+str(mean_sharpe)+\"\\n\")\n",
    "    "
   ]
  },
  {
   "cell_type": "code",
   "execution_count": null,
   "metadata": {
    "collapsed": true
   },
   "outputs": [],
   "source": []
  }
 ],
 "metadata": {
  "kernelspec": {
   "display_name": "Python 2",
   "language": "python",
   "name": "python2"
  },
  "language_info": {
   "codemirror_mode": {
    "name": "ipython",
    "version": 2
   },
   "file_extension": ".py",
   "mimetype": "text/x-python",
   "name": "python",
   "nbconvert_exporter": "python",
   "pygments_lexer": "ipython2",
   "version": "2.7.13"
  }
 },
 "nbformat": 4,
 "nbformat_minor": 2
}
