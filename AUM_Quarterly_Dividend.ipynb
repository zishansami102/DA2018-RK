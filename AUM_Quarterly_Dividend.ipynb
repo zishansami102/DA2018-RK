{
 "cells": [
  {
   "cell_type": "code",
   "execution_count": 1,
   "metadata": {
    "collapsed": true
   },
   "outputs": [],
   "source": [
    "import os\n",
    "import numpy as np\n",
    "import pandas as pd\n",
    "import datetime as dt"
   ]
  },
  {
   "cell_type": "code",
   "execution_count": 2,
   "metadata": {
    "collapsed": true
   },
   "outputs": [],
   "source": [
    "#Change the base path before executing code\n",
    "Base_path = \"/home/tennistetris/Documents/Data Analytics/Hall/Inter_hall\"\n",
    "data = \"extracted_AUM_Data\"\n",
    "Path_to_data = os.path.join(Base_path,data)\n",
    "files = os.listdir(Path_to_data)\n",
    "os.chdir(Path_to_data)"
   ]
  },
  {
   "cell_type": "code",
   "execution_count": 3,
   "metadata": {
    "collapsed": true
   },
   "outputs": [],
   "source": [
    "os.chdir(Base_path)\n",
    "if not('AUM_quarterly_growth' in os.listdir(Base_path)):\n",
    "    os.mkdir('AUM_quarterly_dividend')"
   ]
  },
  {
   "cell_type": "code",
   "execution_count": 4,
   "metadata": {
    "collapsed": true
   },
   "outputs": [],
   "source": [
    "Write_path = os.path.join(Base_path , 'AUM_quarterly_dividend')"
   ]
  },
  {
   "cell_type": "code",
   "execution_count": 5,
   "metadata": {
    "collapsed": true
   },
   "outputs": [],
   "source": [
    "Mutual_funds = os.listdir(os.path.join(Base_path,'All_equity'))\n",
    "for i,fund in enumerate(Mutual_funds):\n",
    "    Mutual_funds[i] = fund.split('.')[0].strip()"
   ]
  },
  {
   "cell_type": "code",
   "execution_count": 6,
   "metadata": {
    "collapsed": true
   },
   "outputs": [],
   "source": [
    "Files_mapping = {'ICICI_Prudential_Mutual_Fund':'data20.csv','HDFC_Mutual_Fund':'data9.csv','UTI_Mutual_Fund':'data28.csv','Reliance_Mutual_Fund':'data21.csv','Tata_Mutual_Fund':'data25.csv','SBI_Mutual_Fund':'data22.csv','Sundaram_Mutual_Fund':'data33.csv','Aditya_Birla_Sun_Life_Mutual_Fund':'data3.csv'}"
   ]
  },
  {
   "cell_type": "code",
   "execution_count": 8,
   "metadata": {},
   "outputs": [
    {
     "name": "stderr",
     "output_type": "stream",
     "text": [
      "/home/tennistetris/tensorflow/lib/python2.7/site-packages/ipykernel_launcher.py:7: SettingWithCopyWarning: \n",
      "A value is trying to be set on a copy of a slice from a DataFrame\n",
      "\n",
      "See the caveats in the documentation: http://pandas.pydata.org/pandas-docs/stable/indexing.html#indexing-view-versus-copy\n",
      "  import sys\n"
     ]
    }
   ],
   "source": [
    "os.chdir(Base_path)\n",
    "db2 = pd.read_csv('MF_IIT_DATA_V1_EDITED.csv')\n",
    "IDs = db2['Id']\n",
    "#Removing NaNs\n",
    "for i in range(len(IDs)):\n",
    "    try:\n",
    "        IDs[i] = int(IDs[i])\n",
    "    except ValueError:\n",
    "        IDs[i] = 0"
   ]
  },
  {
   "cell_type": "code",
   "execution_count": null,
   "metadata": {
    "collapsed": true
   },
   "outputs": [],
   "source": []
  }
 ],
 "metadata": {
  "kernelspec": {
   "display_name": "Python 3",
   "language": "python",
   "name": "python3"
  },
  "language_info": {
   "codemirror_mode": {
    "name": "ipython",
    "version": 2
   },
   "file_extension": ".py",
   "mimetype": "text/x-python",
   "name": "python",
   "nbconvert_exporter": "python",
   "pygments_lexer": "ipython2",
   "version": "2.7.12"
  }
 },
 "nbformat": 4,
 "nbformat_minor": 2
}
