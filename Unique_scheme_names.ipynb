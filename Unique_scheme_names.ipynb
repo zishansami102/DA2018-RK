{
 "cells": [
  {
   "cell_type": "code",
   "execution_count": 12,
   "metadata": {
    "collapsed": true
   },
   "outputs": [],
   "source": [
    "import numpy as np\n",
    "import pandas as pd\n",
    "import matplotlib.pyplot as plt\n",
    "import os"
   ]
  },
  {
   "cell_type": "code",
   "execution_count": 28,
   "metadata": {},
   "outputs": [
    {
     "data": {
      "text/plain": [
       "['ICICI_Prudential_Mutual_Fund.csv',\n",
       " 'Tata_Mutual_Fund.csv',\n",
       " 'Sundaram_Mutual_Fund.csv',\n",
       " 'HDFC_Mutual_Fund.csv',\n",
       " 'SBI_Mutual_Fund.csv',\n",
       " 'Reliance_Mutual_Fund.csv',\n",
       " 'Aditya_Birla_Sun_Life_Mutual_Fund.csv',\n",
       " 'UTI_Mutual_Fund.csv']"
      ]
     },
     "execution_count": 28,
     "metadata": {},
     "output_type": "execute_result"
    }
   ],
   "source": [
    "#Change the base path before executing code\n",
    "Base_path = \"/home/tennistetris/Documents/Data Analytics/Hall/Inter_hall\"\n",
    "data = \"All_equity\"\n",
    "Path_to_data = os.path.join(Base_path,data)\n",
    "files = os.listdir(Path_to_data)\n",
    "os.chdir(Path_to_data)\n",
    "os.listdir(Path_to_data)"
   ]
  },
  {
   "cell_type": "markdown",
   "metadata": {},
   "source": [
    "## IGNORE"
   ]
  },
  {
   "cell_type": "markdown",
   "metadata": {},
   "source": [
    "### Ignore the following cells unless specified otherwise , these cells have been used for exploratory analysis,start executing the code after the Header Block stating 'EXECUTE'"
   ]
  },
  {
   "cell_type": "code",
   "execution_count": 14,
   "metadata": {},
   "outputs": [
    {
     "data": {
      "text/html": [
       "<div>\n",
       "<style scoped>\n",
       "    .dataframe tbody tr th:only-of-type {\n",
       "        vertical-align: middle;\n",
       "    }\n",
       "\n",
       "    .dataframe tbody tr th {\n",
       "        vertical-align: top;\n",
       "    }\n",
       "\n",
       "    .dataframe thead th {\n",
       "        text-align: right;\n",
       "    }\n",
       "</style>\n",
       "<table border=\"1\" class=\"dataframe\">\n",
       "  <thead>\n",
       "    <tr style=\"text-align: right;\">\n",
       "      <th></th>\n",
       "      <th>Scheme Code</th>\n",
       "      <th>Scheme Name</th>\n",
       "      <th>Net Asset Value</th>\n",
       "      <th>Repurchase Price</th>\n",
       "      <th>Sale Price</th>\n",
       "      <th>Date</th>\n",
       "    </tr>\n",
       "  </thead>\n",
       "  <tbody>\n",
       "    <tr>\n",
       "      <th>0</th>\n",
       "      <td>118587</td>\n",
       "      <td>Reliance Arbitrage Advantage Fund - Direct Pla...</td>\n",
       "      <td>12.1538</td>\n",
       "      <td>12.0323</td>\n",
       "      <td>12.1538</td>\n",
       "      <td>03-Jan-2013</td>\n",
       "    </tr>\n",
       "    <tr>\n",
       "      <th>1</th>\n",
       "      <td>118587</td>\n",
       "      <td>Reliance Arbitrage Advantage Fund - Direct Pla...</td>\n",
       "      <td>12.1614</td>\n",
       "      <td>12.0398</td>\n",
       "      <td>12.1614</td>\n",
       "      <td>04-Jan-2013</td>\n",
       "    </tr>\n",
       "    <tr>\n",
       "      <th>2</th>\n",
       "      <td>118587</td>\n",
       "      <td>Reliance Arbitrage Advantage Fund - Direct Pla...</td>\n",
       "      <td>12.1632</td>\n",
       "      <td>12.0416</td>\n",
       "      <td>12.1632</td>\n",
       "      <td>07-Jan-2013</td>\n",
       "    </tr>\n",
       "    <tr>\n",
       "      <th>3</th>\n",
       "      <td>118587</td>\n",
       "      <td>Reliance Arbitrage Advantage Fund - Direct Pla...</td>\n",
       "      <td>12.1590</td>\n",
       "      <td>12.0374</td>\n",
       "      <td>12.1590</td>\n",
       "      <td>08-Jan-2013</td>\n",
       "    </tr>\n",
       "    <tr>\n",
       "      <th>4</th>\n",
       "      <td>118587</td>\n",
       "      <td>Reliance Arbitrage Advantage Fund - Direct Pla...</td>\n",
       "      <td>12.1781</td>\n",
       "      <td>12.0563</td>\n",
       "      <td>12.1781</td>\n",
       "      <td>09-Jan-2013</td>\n",
       "    </tr>\n",
       "  </tbody>\n",
       "</table>\n",
       "</div>"
      ],
      "text/plain": [
       "   Scheme Code                                        Scheme Name  \\\n",
       "0       118587  Reliance Arbitrage Advantage Fund - Direct Pla...   \n",
       "1       118587  Reliance Arbitrage Advantage Fund - Direct Pla...   \n",
       "2       118587  Reliance Arbitrage Advantage Fund - Direct Pla...   \n",
       "3       118587  Reliance Arbitrage Advantage Fund - Direct Pla...   \n",
       "4       118587  Reliance Arbitrage Advantage Fund - Direct Pla...   \n",
       "\n",
       "   Net Asset Value  Repurchase Price  Sale Price         Date  \n",
       "0          12.1538           12.0323     12.1538  03-Jan-2013  \n",
       "1          12.1614           12.0398     12.1614  04-Jan-2013  \n",
       "2          12.1632           12.0416     12.1632  07-Jan-2013  \n",
       "3          12.1590           12.0374     12.1590  08-Jan-2013  \n",
       "4          12.1781           12.0563     12.1781  09-Jan-2013  "
      ]
     },
     "execution_count": 14,
     "metadata": {},
     "output_type": "execute_result"
    }
   ],
   "source": [
    "os.getcwd()\n",
    "db = pd.read_csv(files[5],header=None,names=[\"Scheme Code\",\"Scheme Name\",\"Net Asset Value\",\"Repurchase Price\",\"Sale Price\",\"Date\"],na_values='N.A.')\n",
    "db.head()"
   ]
  },
  {
   "cell_type": "code",
   "execution_count": 15,
   "metadata": {},
   "outputs": [
    {
     "name": "stdout",
     "output_type": "stream",
     "text": [
      "(152,)\n"
     ]
    }
   ],
   "source": [
    "columns = db.columns\n",
    "Unique_scheme_codes = db[columns[0]].unique().astype(\"string\")\n",
    "print Unique_scheme_codes.shape"
   ]
  },
  {
   "cell_type": "code",
   "execution_count": 16,
   "metadata": {},
   "outputs": [
    {
     "name": "stdout",
     "output_type": "stream",
     "text": [
      "['Reliance Arbitrage Advantage Fund - Direct Plan Dividend Plan'\n",
      " 'Reliance Arbitrage Advantage Fund - Direct Plan Growth Plan - Growth Option'\n",
      " 'Reliance Arbitrage Advantage Fund - Dividend Plan'\n",
      " 'Reliance Arbitrage Advantage Fund - Growth Plan - Growth Option'\n",
      " 'Reliance Arbitrage Advantage Fund- Direct Plan- Monthly dividend Plan'\n",
      " 'Reliance Arbitrage Advantage Fund-Monthly dividend Plan'\n",
      " 'Reliance Banking Fund - Direct Plan Dividend Plan'\n",
      " 'Reliance Banking Fund - Direct Plan Growth Plan - Bonus Option'\n",
      " 'Reliance Banking Fund - Direct Plan Growth Plan - Growth Option'\n",
      " 'Reliance Banking Fund-Dividend Plan-Dividend Option'\n",
      " 'Reliance Banking Fund-Growth Plan-Bonus Option'\n",
      " 'Reliance Banking Fund-Growth Plan-Growth Option'\n",
      " 'Reliance Diversified Power Sector Fund - Direct Plan Dividend Plan'\n",
      " 'Reliance Diversified Power Sector Fund - Direct Plan Growth Plan - Bonus Option'\n",
      " 'Reliance Diversified Power Sector Fund - Direct Plan Growth Plan - Growth Option'\n",
      " 'Reliance Diversified Power Sector Fund-Dividend Plan'\n",
      " 'Reliance Diversified Power Sector Fund-Growth Plan -Growth Option'\n",
      " 'Reliance Diversified Power Sector Fund-Growth Plan-Bonus Option'\n",
      " 'Reliance Equity Opportunities  Fund Institutional Dividend Plan'\n",
      " 'Reliance Equity Opportunities  Fund Institutional Plan Growth Plan Growth Option'\n",
      " 'Reliance Equity Opportunities  Fund-Dividend Plan'\n",
      " 'Reliance Equity Opportunities  Fund-Growth Plan-Bonus Option'\n",
      " 'Reliance Equity Opportunities  Fund-Growth Plan-Growth Option'\n",
      " 'Reliance Equity Opportunities Fund - Direct Plan Dividend Plan'\n",
      " 'Reliance Equity Opportunities Fund - Direct Plan Growth Plan - Bonus Option'\n",
      " 'Reliance Equity Opportunities Fund - Direct Plan Growth Plan - Growth Option'\n",
      " 'Reliance Equity Savings Fund- Direct Plan- Growth Plan- Bonus Option'\n",
      " 'Reliance Equity Savings Fund- Direct Plan- Growth Plan-Growth Option'\n",
      " 'Reliance Equity Savings Fund- Direct Plan- Quarterly Dividend Plan'\n",
      " 'Reliance Equity Savings Fund- Direct Plan-Dividend Plan'\n",
      " 'Reliance Equity Savings Fund- Direct Plan-Monthly Dividend Plan'\n",
      " 'Reliance Equity Savings Fund- Dividend Plan'\n",
      " 'Reliance Equity Savings Fund- Growth Plan- Bonus Option'\n",
      " 'Reliance Equity Savings Fund- Growth Plan- Growth Option'\n",
      " 'Reliance Equity Savings Fund- Monthly Dividend Plan'\n",
      " 'Reliance Equity Savings Fund- Quarterly Dividend Plan'\n",
      " 'Reliance Focused Large Cap Fund - Direct Plan Dividend Plan'\n",
      " 'Reliance Focused Large Cap Fund - Direct Plan Growth Plan - Bonus Option'\n",
      " 'Reliance Focused Large Cap Fund - Direct Plan Growth Plan - Growth Option'\n",
      " 'Reliance Focused Large Cap Fund-Dividend Plan'\n",
      " 'Reliance Focused Large Cap Fund-Growth Plan-Bonus Option'\n",
      " 'Reliance Focused Large Cap Fund-Growth Plan-Growth Option'\n",
      " 'Reliance Growth Fund - Direct Plan Dividend Plan'\n",
      " 'Reliance Growth Fund - Direct Plan Growth Plan - Bonus Option'\n",
      " 'Reliance Growth Fund - Direct Plan Growth Plan - Growth Option'\n",
      " 'Reliance Growth Fund Institutional Plan Dividend Plan'\n",
      " 'Reliance Growth Fund Institutional Plan Growth Plan Growth Option'\n",
      " 'Reliance Growth Fund-Dividend Plan-(D)'\n",
      " 'Reliance Growth Fund-Growth Plan-Bonus Option'\n",
      " 'Reliance Growth Fund-Growth Plan-Growth Option'\n",
      " 'Reliance Index Fund - Nifty Plan - Direct Plan Growth Plan - Bonus Option'\n",
      " 'Reliance Index Fund - Nifty Plan - Direct Plan Growth Plan - Growth Option'\n",
      " 'Reliance Index Fund - Nifty Plan - Direct Plan Half Yearly Dividend Plan'\n",
      " 'Reliance Index Fund - Nifty Plan - Direct Plan Quarterly Dividend Plan'\n",
      " 'Reliance Index Fund - Nifty Plan - Direct Plan Yearly Dividend Plan'\n",
      " 'Reliance Index Fund - Nifty Plan - Growth Plan - Bonus Option'\n",
      " 'Reliance Index Fund - Nifty Plan - Growth Plan - Growth Option'\n",
      " 'Reliance Index Fund - Nifty Plan - Quarterly Dividend Plan'\n",
      " 'Reliance Index Fund - Nifty Plan- Annual Dividend Plan'\n",
      " 'Reliance Index Fund - Nifty Plan- Half Yearly Dividend Plan'\n",
      " 'Reliance Index Fund - Sensex Plan - Annual Dividend Plan'\n",
      " 'Reliance Index Fund - Sensex Plan - Direct Plan - Annual Dividend Plan'\n",
      " 'Reliance Index Fund - Sensex Plan - Direct Plan - Half Yearly Dividend Plan'\n",
      " 'Reliance Index Fund - Sensex Plan - Direct Plan - Quarterly Dividend Plan'\n",
      " 'Reliance Index Fund - Sensex Plan - Direct Plan Growth Plan - Bonus Option'\n",
      " 'Reliance Index Fund - Sensex Plan - Direct Plan Growth Plan - Growth Option'\n",
      " 'Reliance Index Fund - Sensex Plan - Growth Plan - Bonus Option'\n",
      " 'Reliance Index Fund - Sensex Plan - Growth Plan - Growth Option'\n",
      " 'Reliance Index Fund - Sensex Plan - Half Yearly Dividend Plan'\n",
      " 'Reliance Index Fund - Sensex Plan - Quarterly Dividend Plan'\n",
      " 'Reliance Infrastructure Fund - Direct Plan Dividend Plan - Dividend Payout Option'\n",
      " 'Reliance Infrastructure Fund - Direct Plan Growth Plan - Bonus Option - Bonus'\n",
      " 'Reliance Infrastructure Fund - Direct Plan Growth Plan - Growth'\n",
      " 'Reliance Infrastructure Fund -Bonus Option'\n",
      " 'Reliance Infrastructure Fund -Dividend Option'\n",
      " 'Reliance Infrastructure Fund -Growth Option'\n",
      " 'Reliance Infrastructure Fund- Institutional Plan-Growth Option'\n",
      " 'Reliance Japan Equity Fund- Direct Plan- Dividend Plan'\n",
      " 'Reliance Japan Equity Fund- Direct Plan- Growth Plan- Bonus Option'\n",
      " 'Reliance Japan Equity Fund- Direct Plan- Growth Plan- Growth Option'\n",
      " 'Reliance Japan Equity Fund- Dividend Plan'\n",
      " 'Reliance Japan Equity Fund- Growth Plan- Bonus Option'\n",
      " 'Reliance Japan Equity Fund- Growth Plan- Growth Option'\n",
      " 'Reliance Media & Entertainment Fund - Direct Plan Dividend Plan'\n",
      " 'Reliance Media & Entertainment Fund - Direct Plan Growth Plan - Bonus'\n",
      " 'Reliance Media & Entertainment Fund - Direct Plan Growth Plan - Growth Option'\n",
      " 'Reliance Media & Entertainment Fund-Dividend Plan'\n",
      " 'Reliance Media & Entertainment Fund-Growth Plan-Bonus Option'\n",
      " 'Reliance Media & Entertainment Fund-Growth Plan-Growth Option'\n",
      " 'Reliance Mid & Small Cap Fund - Direct Plan Dividend Plan'\n",
      " 'Reliance Mid & Small Cap Fund - Direct Plan Growth Plan - Growth Option'\n",
      " 'Reliance Mid & Small Cap Fund -Dividend Plan'\n",
      " 'Reliance Mid & Small Cap Fund -Growth Plan -Growth Option'\n",
      " 'Reliance Natural Resources Fund - Direct Plan Bonus Plan - Bonus'\n",
      " 'Reliance Natural Resources Fund - Direct Plan Dividend Plan - Dividend Payout Option'\n",
      " 'Reliance Natural Resources Fund - Direct Plan Growth Plan - Growth Option - Growth'\n",
      " 'Reliance Natural Resources Fund-Dividend Plan-Dividend Option'\n",
      " 'Reliance Natural Resources Fund-Growth Plan-Bonus Option'\n",
      " 'Reliance Natural Resources Fund-Growth Plan-Growth Option'\n",
      " 'Reliance NRI Equity Fund - Direct Plan Dividend Plan'\n",
      " 'Reliance NRI Equity Fund - Direct Plan Growth Plan - Bonus Option'\n",
      " 'Reliance NRI Equity Fund - Direct Plan Growth Plan - Growth Option'\n",
      " 'Reliance NRI Equity Fund-Dividend Plan'\n",
      " 'Reliance NRI Equity Fund-Growth Plan-Bonus Option'\n",
      " 'Reliance NRI Equity Fund-Growth Plan-Growth Option'\n",
      " 'Reliance Pharma Fund - Direct Plan Dividend Plan'\n",
      " 'Reliance Pharma Fund - Direct Plan Growth Plan - Bonus Option'\n",
      " 'Reliance Pharma Fund - Direct Plan Growth Plan - Growth Option'\n",
      " 'Reliance Pharma Fund-Dividend Plan'\n",
      " 'Reliance Pharma Fund-Growth Plan-Bonus Option'\n",
      " 'Reliance Pharma Fund-Growth Plan-Growth Option'\n",
      " 'Reliance Quant Plus Fund - Direct Plan Dividend Plan'\n",
      " 'Reliance Quant Plus Fund - Direct Plan Growth Plan - Bonus Option'\n",
      " 'Reliance Quant Plus Fund - Direct Plan Growth Plan - Growth Option'\n",
      " 'Reliance Quant Plus Fund -Dividend Plan'\n",
      " 'Reliance Quant Plus Fund -Growth Plan - Growth Option'\n",
      " 'Reliance Quant Plus Fund -Growth Plan -Bonus Option'\n",
      " 'Reliance Regular Savings Fund - Equity Option - Direct Plan Dividend Plan'\n",
      " 'Reliance Regular Savings Fund - Equity Option - Direct Plan Growth Plan'\n",
      " 'Reliance Regular Savings Fund-EQUITY OPTION-Dividend Plan'\n",
      " 'Reliance Regular Savings Fund-EQUITY OPTION-Growth Plan'\n",
      " 'Reliance Retirement Fund- Wealth Creation Scheme- Direct Plan- Growth Plan - Growth Option'\n",
      " 'Reliance Retirement Fund- Wealth Creation Scheme- Direct Plan-Dividend Payout Option'\n",
      " 'Reliance Retirement Fund- Wealth Creation Scheme- Direct Plan-Growth Plan- Bonus Option'\n",
      " 'Reliance Retirement Fund- Wealth Creation Scheme- Dividend Payout Option'\n",
      " 'Reliance Retirement Fund- Wealth Creation Scheme- Growth Plan - Growth Option'\n",
      " 'Reliance Retirement Fund- Wealth Creation Scheme- Growth Plan- Bonus Option'\n",
      " 'Reliance Small Cap Fund - Direct Plan Dividend Plan'\n",
      " 'Reliance Small Cap Fund - Direct Plan Growth Plan - Bonus Option'\n",
      " 'Reliance Small Cap Fund - Direct Plan Growth Plan - Growth Option'\n",
      " 'Reliance Small Cap Fund - Dividend Plan'\n",
      " 'Reliance Small Cap Fund - Growth Plan - Bonus Option'\n",
      " 'Reliance Small Cap Fund - Growth Plan - Growth Option'\n",
      " 'Reliance Top 200 Fund - Direct Plan Dividend Plan'\n",
      " 'Reliance Top 200 Fund - Direct Plan Growth Plan - Bonus Option'\n",
      " 'Reliance Top 200 Fund - Direct Plan Growth Plan - Growth Option'\n",
      " 'Reliance Top 200 Fund- Dividend Plan'\n",
      " 'Reliance Top 200 Fund- Growth Plan -Growth Option'\n",
      " 'Reliance Top 200 Fund- Growth Plan Bonus Option'\n",
      " 'Reliance Top 200 Fund-Institutional Plan Growth Plan Bonus Option'\n",
      " 'Reliance US Equity Opportunites Fund- Direct Plan- Dividend  Plan'\n",
      " 'Reliance US Equity Opportunites Fund- Direct Plan- Growth Plan- Growth Option'\n",
      " 'Reliance US Equity Opportunites Fund- Dividend  Plan'\n",
      " 'Reliance US Equity Opportunites Fund- Growth Plan- Growth Option'\n",
      " 'Reliance Vision Fund - Direct Plan Dividend Plan'\n",
      " 'Reliance Vision Fund - Direct Plan Growth Plan - Bonus Option'\n",
      " 'Reliance Vision Fund - Direct Plan Growth Plan - Growth Option'\n",
      " 'Reliance Vision Fund Institutional Dividend Plan'\n",
      " 'Reliance Vision Fund Institutional Plan Growth Plan Growth Option'\n",
      " 'Reliance Vision Fund-DIVIDEND PLAN-D'\n",
      " 'Reliance Vision Fund-GROWTH PLAN-Bonus Option'\n",
      " 'Reliance Vision Fund-GROWTH PLAN-Growth Option']\n"
     ]
    }
   ],
   "source": [
    "Unique_scheme_names = db[columns[1]].unique().astype(\"string\")\n",
    "print Unique_scheme_names"
   ]
  },
  {
   "cell_type": "code",
   "execution_count": 20,
   "metadata": {},
   "outputs": [
    {
     "data": {
      "text/plain": [
       "'\\x88\\xc2\\x810\\xb1\\x7f\\x00\\x00\\x88\\xc2\\x810\\xb1\\x7f\\x00\\x00p\\xd86\\x03\\x00\\x00\\x00\\x00p\\xd86\\x03\\x00\\x00\\x00\\x000\\x00\\x00\\x00;\\x00\\x00\\x003\\x00\\x00\\x002\\x00\\x00\\x00m\\x00\\x00\\x00<\\x00\\x00\\x00i\\x00\\x00\\x00p\\x00\\x00\\x00y\\x00\\x00\\x00t\\x00\\x00\\x00h\\x00\\x00\\x00o\\x00\\x00\\x00n\\x00\\x00\\x00-\\x00\\x00\\x00i'"
      ]
     },
     "execution_count": 20,
     "metadata": {},
     "output_type": "execute_result"
    }
   ],
   "source": [
    "Unique_name = np.empty_like(Unique_scheme_names)\n",
    "Unique_name.shape\n",
    "Unique_name[0]"
   ]
  },
  {
   "cell_type": "code",
   "execution_count": 21,
   "metadata": {},
   "outputs": [
    {
     "name": "stdout",
     "output_type": "stream",
     "text": [
      "(29,)\n"
     ]
    }
   ],
   "source": [
    "for i in range(Unique_scheme_names.shape[0]):\n",
    "    Unique_name[i] = Unique_scheme_names[i].split('-')[0]\n",
    "    Unique_name[i] = Unique_name[i].strip()\n",
    "Unique_name = np.unique(Unique_name)\n",
    "print Unique_name.shape"
   ]
  },
  {
   "cell_type": "markdown",
   "metadata": {},
   "source": [
    "## Execute"
   ]
  },
  {
   "cell_type": "markdown",
   "metadata": {},
   "source": [
    "##### What I am trying to do is implement a crude code for extracting the different\n",
    "##### fund schemes."
   ]
  },
  {
   "cell_type": "markdown",
   "metadata": {},
   "source": [
    "What this basically tries to do is extract unique \"All Equity\" and \"Open Ended\" fund types into a folder(Unique_scheme_names)[arranged in different csv files by Fund house] and then further make a csv file with the unique fund schemes"
   ]
  },
  {
   "cell_type": "code",
   "execution_count": 51,
   "metadata": {},
   "outputs": [
    {
     "name": "stdout",
     "output_type": "stream",
     "text": [
      "For ICICI_Prudential_Mutual_Fund.csv : we have 84 discrepencies.\n",
      "For Tata_Mutual_Fund.csv : we have 69 discrepencies.\n",
      "For Sundaram_Mutual_Fund.csv : we have 48 discrepencies.\n",
      "For HDFC_Mutual_Fund.csv : we have 39 discrepencies.\n",
      "For SBI_Mutual_Fund.csv : we have 53 discrepencies.\n",
      "For Reliance_Mutual_Fund.csv : we have 123 discrepencies.\n",
      "For Aditya_Birla_Sun_Life_Mutual_Fund.csv : we have 79 discrepencies.\n",
      "For UTI_Mutual_Fund.csv : we have 59 discrepencies.\n"
     ]
    }
   ],
   "source": [
    "Write_dir = os.path.join(Base_path,\"Unique_scheme_names\")\n",
    "os.chdir(Base_path)\n",
    "try:\n",
    "    os.chdir(Write_dir)\n",
    "except:\n",
    "    os.mkdir(\"Unique_scheme_names\")\n",
    "num_files = len(files)\n",
    "\n",
    "schemes = list()\n",
    "\n",
    "for i,file in enumerate(files):\n",
    "    os.chdir(Path_to_data)\n",
    "    db = pd.read_csv(file,header=None,names=[\"Scheme Code\",\"Scheme Name\",\"Net Asset Value\",\"Repurchase Price\",\"Sale Price\",\"Date\"],na_values='N.A.')\n",
    "    columns = db.columns\n",
    "    Unique_scheme_codes = db[columns[0]].unique().astype(\"string\")\n",
    "    Unique_scheme_names = db[columns[1]].unique().astype(\"string\")\n",
    "    Unique_schemes = np.empty_like(Unique_scheme_names)   \n",
    "    for i in range(Unique_scheme_names.shape[0]):\n",
    "        Unique_schemes[i] = Unique_scheme_names[i].split('-')[0]\n",
    "        Unique_schemes[i] = Unique_schemes[i].strip()\n",
    "    Unique_schemes= np.unique(Unique_schemes)\n",
    "    #the difference between Unique_schemes and Unique_scheme_names is that\n",
    "    #a single scheme has multiple types 'dividend','growth' etc. \n",
    "    #Unique_schemes only considers these once\n",
    "    discrepancies = -Unique_name.shape[0]+Unique_scheme_codes.shape[0]\n",
    "    print (\"For \"+file+\" : we have \"+str(discrepancies)+\" discrepencies.\")\n",
    "    db1 = pd.DataFrame({'ID' : Unique_scheme_codes,\n",
    "                        'Name' : Unique_scheme_names})\n",
    "    if not(file in os.listdir(Write_dir)):\n",
    "        os.chdir(Write_dir)\n",
    "        db1.to_csv(file)\n",
    "    schemes.append(Unique_schemes)\n",
    "\n",
    "schemes = pd.DataFrame(schemes)\n",
    "schemes = schemes.T\n",
    "schemes.columns = files\n",
    "os.chdir(Write_dir)\n",
    "schemes.to_csv('Unique_schemes.csv')\n",
    "    "
   ]
  },
  {
   "cell_type": "code",
   "execution_count": null,
   "metadata": {
    "collapsed": true
   },
   "outputs": [],
   "source": []
  }
 ],
 "metadata": {
  "kernelspec": {
   "display_name": "Python 3",
   "language": "python",
   "name": "python3"
  },
  "language_info": {
   "codemirror_mode": {
    "name": "ipython",
    "version": 2
   },
   "file_extension": ".py",
   "mimetype": "text/x-python",
   "name": "python",
   "nbconvert_exporter": "python",
   "pygments_lexer": "ipython2",
   "version": "2.7.12"
  }
 },
 "nbformat": 4,
 "nbformat_minor": 2
}
