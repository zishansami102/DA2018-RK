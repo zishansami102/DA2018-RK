{
 "cells": [
  {
   "cell_type": "code",
   "execution_count": 1,
   "metadata": {
    "collapsed": true
   },
   "outputs": [],
   "source": [
    "import numpy as np\n",
    "import pandas as pd \n"
   ]
  },
  {
   "cell_type": "code",
   "execution_count": 4,
   "metadata": {
    "collapsed": true
   },
   "outputs": [],
   "source": [
    "import os "
   ]
  },
  {
   "cell_type": "code",
   "execution_count": 9,
   "metadata": {
    "collapsed": true
   },
   "outputs": [],
   "source": [
    "PATH=\"/Users/jarvis/DA2018-RK/\"\n",
    "DATA=\"MF_IIT_DATA_V3_EDITED.csv\"\n",
    "PATH_TO_DATA=os.path.join(PATH,DATA)\n",
    "EPHISLON=1e-14\n",
    "PATH2=\"/Users/jarvis/DA2018-RK/NAV_data/Mix/\""
   ]
  },
  {
   "cell_type": "code",
   "execution_count": 20,
   "metadata": {
    "collapsed": true
   },
   "outputs": [],
   "source": [
    "data_main=pd.read_csv(PATH_TO_DATA)"
   ]
  },
  {
   "cell_type": "code",
   "execution_count": 21,
   "metadata": {
    "collapsed": true
   },
   "outputs": [],
   "source": [
    "def return_nav_monthly(file_name) :\n",
    "    nav_data=pd.read_csv(PATH2+file_name+\".csv\")\n",
    "    nav_values=nav_data['Net Asset Value']\n",
    "    time_stamp=nav_data['Date']\n",
    "    names=['Jan','Feb','Mar','Apr','May','Jun','Jul','Aug','Sep','Oct','Nov','Dec']\n",
    "    years=['2013','2014','2015','2016','2017']\n",
    "    nav_montly=[]\n",
    "    value=[]\n",
    "    for year in years:\n",
    "        for name in names:\n",
    "            name_year=name+\"-\"+year\n",
    "            for i in range(len(time_stamp)):\n",
    "                if name_year in time_stamp[i]:\n",
    "                    value.append(nav_values[i])\n",
    "            nav_montly.append(np.log(value[-1]/value[0]))\n",
    "            value[:]=[]\n",
    "    return nav_montly"
   ]
  },
  {
   "cell_type": "code",
   "execution_count": 27,
   "metadata": {
    "collapsed": true
   },
   "outputs": [],
   "source": [
    "import os \n",
    "\n",
    "PATH=\"/Users/jarvis/DA2018-RK/\"\n",
    "DATA=\"MF_IIT_DATA_V3_EDITED.csv\"\n",
    "PATH_TO_DATA=os.path.join(PATH,DATA)\n",
    "EPHISLON=1e-14"
   ]
  },
  {
   "cell_type": "code",
   "execution_count": 28,
   "metadata": {},
   "outputs": [
    {
     "ename": "TypeError",
     "evalue": "ufunc 'add' did not contain a loop with signature matching types dtype('S37') dtype('S37') dtype('S37')",
     "output_type": "error",
     "traceback": [
      "\u001b[0;31m---------------------------------------------------------------------------\u001b[0m",
      "\u001b[0;31mTypeError\u001b[0m                                 Traceback (most recent call last)",
      "\u001b[0;32m<ipython-input-28-84d6a892d9d3>\u001b[0m in \u001b[0;36m<module>\u001b[0;34m()\u001b[0m\n\u001b[1;32m      3\u001b[0m \u001b[0mids\u001b[0m\u001b[0;34m=\u001b[0m\u001b[0mdata_main\u001b[0m\u001b[0;34m[\u001b[0m\u001b[0;34m'ID'\u001b[0m\u001b[0;34m]\u001b[0m\u001b[0;34m\u001b[0m\u001b[0m\n\u001b[1;32m      4\u001b[0m \u001b[0;32mfor\u001b[0m \u001b[0mid\u001b[0m \u001b[0;32min\u001b[0m \u001b[0mids\u001b[0m\u001b[0;34m:\u001b[0m\u001b[0;34m\u001b[0m\u001b[0m\n\u001b[0;32m----> 5\u001b[0;31m     \u001b[0mnav_mon\u001b[0m\u001b[0;34m=\u001b[0m\u001b[0mreturn_nav_monthly\u001b[0m\u001b[0;34m(\u001b[0m\u001b[0mid\u001b[0m\u001b[0;34m)\u001b[0m\u001b[0;34m\u001b[0m\u001b[0m\n\u001b[0m\u001b[1;32m      6\u001b[0m     \u001b[0mnav_quaterly\u001b[0m\u001b[0;34m=\u001b[0m\u001b[0;34m[\u001b[0m\u001b[0;34m]\u001b[0m\u001b[0;34m\u001b[0m\u001b[0m\n\u001b[1;32m      7\u001b[0m     \u001b[0;32mfor\u001b[0m \u001b[0mi\u001b[0m \u001b[0;32min\u001b[0m \u001b[0mrange\u001b[0m\u001b[0;34m(\u001b[0m\u001b[0mlen\u001b[0m\u001b[0;34m(\u001b[0m\u001b[0mnav_mon\u001b[0m\u001b[0;34m)\u001b[0m\u001b[0;34m-\u001b[0m\u001b[0;36m2\u001b[0m\u001b[0;34m)\u001b[0m\u001b[0;34m:\u001b[0m\u001b[0;34m\u001b[0m\u001b[0m\n",
      "\u001b[0;32m<ipython-input-21-096bc7f1fd90>\u001b[0m in \u001b[0;36mreturn_nav_monthly\u001b[0;34m(file_name)\u001b[0m\n\u001b[1;32m      1\u001b[0m \u001b[0;32mdef\u001b[0m \u001b[0mreturn_nav_monthly\u001b[0m\u001b[0;34m(\u001b[0m\u001b[0mfile_name\u001b[0m\u001b[0;34m)\u001b[0m \u001b[0;34m:\u001b[0m\u001b[0;34m\u001b[0m\u001b[0m\n\u001b[0;32m----> 2\u001b[0;31m     \u001b[0mnav_data\u001b[0m\u001b[0;34m=\u001b[0m\u001b[0mpd\u001b[0m\u001b[0;34m.\u001b[0m\u001b[0mread_csv\u001b[0m\u001b[0;34m(\u001b[0m\u001b[0mPATH2\u001b[0m\u001b[0;34m+\u001b[0m\u001b[0mfile_name\u001b[0m\u001b[0;34m+\u001b[0m\u001b[0;34m\".csv\"\u001b[0m\u001b[0;34m)\u001b[0m\u001b[0;34m\u001b[0m\u001b[0m\n\u001b[0m\u001b[1;32m      3\u001b[0m     \u001b[0mnav_values\u001b[0m\u001b[0;34m=\u001b[0m\u001b[0mnav_data\u001b[0m\u001b[0;34m[\u001b[0m\u001b[0;34m'Net Asset Value'\u001b[0m\u001b[0;34m]\u001b[0m\u001b[0;34m\u001b[0m\u001b[0m\n\u001b[1;32m      4\u001b[0m     \u001b[0mtime_stamp\u001b[0m\u001b[0;34m=\u001b[0m\u001b[0mnav_data\u001b[0m\u001b[0;34m[\u001b[0m\u001b[0;34m'Date'\u001b[0m\u001b[0;34m]\u001b[0m\u001b[0;34m\u001b[0m\u001b[0m\n\u001b[1;32m      5\u001b[0m     \u001b[0mnames\u001b[0m\u001b[0;34m=\u001b[0m\u001b[0;34m[\u001b[0m\u001b[0;34m'Jan'\u001b[0m\u001b[0;34m,\u001b[0m\u001b[0;34m'Feb'\u001b[0m\u001b[0;34m,\u001b[0m\u001b[0;34m'Mar'\u001b[0m\u001b[0;34m,\u001b[0m\u001b[0;34m'Apr'\u001b[0m\u001b[0;34m,\u001b[0m\u001b[0;34m'May'\u001b[0m\u001b[0;34m,\u001b[0m\u001b[0;34m'Jun'\u001b[0m\u001b[0;34m,\u001b[0m\u001b[0;34m'Jul'\u001b[0m\u001b[0;34m,\u001b[0m\u001b[0;34m'Aug'\u001b[0m\u001b[0;34m,\u001b[0m\u001b[0;34m'Sep'\u001b[0m\u001b[0;34m,\u001b[0m\u001b[0;34m'Oct'\u001b[0m\u001b[0;34m,\u001b[0m\u001b[0;34m'Nov'\u001b[0m\u001b[0;34m,\u001b[0m\u001b[0;34m'Dec'\u001b[0m\u001b[0;34m]\u001b[0m\u001b[0;34m\u001b[0m\u001b[0m\n",
      "\u001b[0;31mTypeError\u001b[0m: ufunc 'add' did not contain a loop with signature matching types dtype('S37') dtype('S37') dtype('S37')"
     ]
    }
   ],
   "source": [
    "dict_nav={}\n",
    "data_main=pd.read_csv(PATH_TO_DATA)\n",
    "ids=data_main['ID']\n",
    "for id in ids:\n",
    "    nav_mon=return_nav_monthly(id)\n",
    "    nav_quaterly=[]\n",
    "    for i in range(len(nav_mon)-2):\n",
    "        nav_quaterly.append(nav_mon[i]+nav_mon[i+1]+nav_mon[i+2])\n",
    "    dict_nav[id]=nav_quaterly\n",
    "    nav_quaterly[:]=[]\n"
   ]
  },
  {
   "cell_type": "code",
   "execution_count": null,
   "metadata": {
    "collapsed": true
   },
   "outputs": [],
   "source": []
  }
 ],
 "metadata": {
  "kernelspec": {
   "display_name": "Python 2",
   "language": "python",
   "name": "python2"
  },
  "language_info": {
   "codemirror_mode": {
    "name": "ipython",
    "version": 2
   },
   "file_extension": ".py",
   "mimetype": "text/x-python",
   "name": "python",
   "nbconvert_exporter": "python",
   "pygments_lexer": "ipython2",
   "version": "2.7.12"
  }
 },
 "nbformat": 4,
 "nbformat_minor": 2
}
