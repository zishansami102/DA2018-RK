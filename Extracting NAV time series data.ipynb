{
 "cells": [
  {
   "cell_type": "markdown",
   "metadata": {},
   "source": [
    "### The main purpose of this code is to extract time series data and label then by the scheme code.This will help in modelling data further down the line.Only required once."
   ]
  },
  {
   "cell_type": "code",
   "execution_count": 92,
   "metadata": {
    "collapsed": true
   },
   "outputs": [],
   "source": [
    "import numpy as np\n",
    "import matplotlib.pyplot as plt\n",
    "import pandas as pd\n",
    "import os"
   ]
  },
  {
   "cell_type": "code",
   "execution_count": 93,
   "metadata": {
    "collapsed": true
   },
   "outputs": [],
   "source": [
    "#Change the base path before executing code\n",
    "Base_path = \"/home/tennistetris/Documents/Data Analytics/Hall/Inter_hall\"\n",
    "data = \"All_equity\"\n",
    "Path_to_data = os.path.join(Base_path,data)\n",
    "files = os.listdir(Path_to_data)\n",
    "os.chdir(Path_to_data)"
   ]
  },
  {
   "cell_type": "code",
   "execution_count": 94,
   "metadata": {
    "collapsed": true
   },
   "outputs": [],
   "source": [
    "os.chdir(Base_path)\n",
    "if(not(\"NAV_data\" in os.listdir(Base_path))):\n",
    "    os.mkdir(\"NAV_data\")\n",
    "Write_path = os.path.join(Base_path,\"NAV_data\")"
   ]
  },
  {
   "cell_type": "code",
   "execution_count": 1,
   "metadata": {},
   "outputs": [
    {
     "ename": "NameError",
     "evalue": "name 'os' is not defined",
     "output_type": "error",
     "traceback": [
      "\u001b[0;31m---------------------------------------------------------------------------\u001b[0m",
      "\u001b[0;31mNameError\u001b[0m                                 Traceback (most recent call last)",
      "\u001b[0;32m<ipython-input-1-7345ecee58f2>\u001b[0m in \u001b[0;36m<module>\u001b[0;34m()\u001b[0m\n\u001b[0;32m----> 1\u001b[0;31m \u001b[0mos\u001b[0m\u001b[0;34m.\u001b[0m\u001b[0mchdir\u001b[0m\u001b[0;34m(\u001b[0m\u001b[0mPath_to_data\u001b[0m\u001b[0;34m)\u001b[0m\u001b[0;34m\u001b[0m\u001b[0m\n\u001b[0m\u001b[1;32m      2\u001b[0m \u001b[0;32mfor\u001b[0m \u001b[0mfile\u001b[0m \u001b[0;32min\u001b[0m \u001b[0mfiles\u001b[0m\u001b[0;34m:\u001b[0m\u001b[0;34m\u001b[0m\u001b[0m\n\u001b[1;32m      3\u001b[0m     \u001b[0mos\u001b[0m\u001b[0;34m.\u001b[0m\u001b[0mchdir\u001b[0m\u001b[0;34m(\u001b[0m\u001b[0mPath_to_data\u001b[0m\u001b[0;34m)\u001b[0m\u001b[0;34m\u001b[0m\u001b[0m\n\u001b[1;32m      4\u001b[0m     \u001b[0mdb\u001b[0m \u001b[0;34m=\u001b[0m \u001b[0mpd\u001b[0m\u001b[0;34m.\u001b[0m\u001b[0mread_csv\u001b[0m\u001b[0;34m(\u001b[0m\u001b[0mfile\u001b[0m\u001b[0;34m,\u001b[0m\u001b[0mheader\u001b[0m\u001b[0;34m=\u001b[0m\u001b[0mNone\u001b[0m\u001b[0;34m,\u001b[0m\u001b[0mnames\u001b[0m\u001b[0;34m=\u001b[0m\u001b[0;34m[\u001b[0m\u001b[0;34m\"Scheme Code\"\u001b[0m\u001b[0;34m,\u001b[0m\u001b[0;34m\"Scheme Name\"\u001b[0m\u001b[0;34m,\u001b[0m\u001b[0;34m\"Net Asset Value\"\u001b[0m\u001b[0;34m,\u001b[0m\u001b[0;34m\"Repurchase Price\"\u001b[0m\u001b[0;34m,\u001b[0m\u001b[0;34m\"Sale Price\"\u001b[0m\u001b[0;34m,\u001b[0m\u001b[0;34m\"Date\"\u001b[0m\u001b[0;34m]\u001b[0m\u001b[0;34m,\u001b[0m\u001b[0mna_values\u001b[0m\u001b[0;34m=\u001b[0m\u001b[0;34m'N.A.'\u001b[0m\u001b[0;34m)\u001b[0m\u001b[0;34m\u001b[0m\u001b[0m\n\u001b[1;32m      5\u001b[0m     \u001b[0mcolumns\u001b[0m \u001b[0;34m=\u001b[0m \u001b[0mdb\u001b[0m\u001b[0;34m.\u001b[0m\u001b[0mcolumns\u001b[0m\u001b[0;34m\u001b[0m\u001b[0m\n",
      "\u001b[0;31mNameError\u001b[0m: name 'os' is not defined"
     ]
    }
   ],
   "source": [
    "os.chdir(Path_to_data)\n",
    "for file in files:\n",
    "    os.chdir(Path_to_data)\n",
    "    db = pd.read_csv(file,header=None,names=[\"Scheme Code\",\"Scheme Name\",\"Net Asset Value\",\"Repurchase Price\",\"Sale Price\",\"Date\"],na_values='N.A.')\n",
    "    columns = db.columns\n",
    "    Unique_scheme_codes = db[columns[0]].unique()\n",
    "    print Unique_scheme_codes.shape\n",
    "    Write_path = os.path.join(Base_path,\"NAV_data\")\n",
    "    Folder_name = file.split('.')[0]\n",
    "    for code in Unique_scheme_codes:\n",
    "        db_subset = db[db[columns[0]] == code]\n",
    "        os.chdir(Write_path)\n",
    "        if not Folder_name in os.listdir(Write_path):\n",
    "            os.mkdir(Folder_name)\n",
    "        os.chdir(os.path.join(Write_path,Folder_name))\n",
    "        File_name = str(code)+'.csv'\n",
    "        db_subset.to_csv(File_name)"
   ]
  },
  {
   "cell_type": "code",
   "execution_count": null,
   "metadata": {
    "collapsed": true
   },
   "outputs": [],
   "source": []
  }
 ],
 "metadata": {
  "kernelspec": {
   "display_name": "Python 3",
   "language": "python",
   "name": "python3"
  },
  "language_info": {
   "codemirror_mode": {
    "name": "ipython",
    "version": 2
   },
   "file_extension": ".py",
   "mimetype": "text/x-python",
   "name": "python",
   "nbconvert_exporter": "python",
   "pygments_lexer": "ipython2",
   "version": "2.7.12"
  }
 },
 "nbformat": 4,
 "nbformat_minor": 2
}
